{
 "cells": [
  {
   "cell_type": "markdown",
   "metadata": {},
   "source": [
    "# Section 2.1\n",
    "# Gradient Descent"
   ]
  },
  {
   "cell_type": "code",
   "execution_count": 117,
   "metadata": {
    "scrolled": true
   },
   "outputs": [
    {
     "data": {
      "image/png": "[encoded data removed]",
      "text/plain": [
       "<matplotlib.figure.Figure at 0x1f3f1f6ccf8>"
      ]
     },
     "metadata": {},
     "output_type": "display_data"
    },
    {
     "name": "stdout",
     "output_type": "stream",
     "text": [
      "[ 1.002  1.002]\n",
      "[ 1.003991  1.003991]\n",
      "[ 1.00597304  1.00597304]\n",
      "[ 1.00794616  1.00794616]\n",
      "[ 1.0099104  1.0099104]\n",
      "[ 1.01186581  1.01186581]\n",
      "[ 1.01381241  1.01381241]\n",
      "[ 1.01575026  1.01575026]\n",
      "[ 1.01767938  1.01767938]\n",
      "[ 1.01959982  1.01959982]\n",
      "[ 1.02151162  1.02151162]\n",
      "[ 1.02341482  1.02341482]\n",
      "[ 1.02530945  1.02530945]\n",
      "[ 1.02719556  1.02719556]\n",
      "[ 1.02907318  1.02907318]\n",
      "[ 1.03094235  1.03094235]\n",
      "[ 1.03280311  1.03280311]\n",
      "[ 1.0346555  1.0346555]\n",
      "[ 1.03649955  1.03649955]\n",
      "[ 1.0383353  1.0383353]\n",
      "[ 1.04016279  1.04016279]\n",
      "[ 1.04198206  1.04198206]\n",
      "[ 1.04379314  1.04379314]\n",
      "[ 1.04559607  1.04559607]\n",
      "[ 1.04739089  1.04739089]\n",
      "[ 1.04917763  1.04917763]\n",
      "[ 1.05095633  1.05095633]\n",
      "[ 1.05272703  1.05272703]\n",
      "[ 1.05448975  1.05448975]\n",
      "[ 1.05624455  1.05624455]\n",
      "[ 1.05799145  1.05799145]\n",
      "[ 1.05973049  1.05973049]\n",
      "[ 1.0614617  1.0614617]\n",
      "[ 1.06318512  1.06318512]\n",
      "[ 1.06490079  1.06490079]\n",
      "[ 1.06660874  1.06660874]\n",
      "[ 1.068309  1.068309]\n",
      "[ 1.07000161  1.07000161]\n",
      "[ 1.0716866  1.0716866]\n",
      "[ 1.07336401  1.07336401]\n",
      "[ 1.07503387  1.07503387]\n",
      "[ 1.07669622  1.07669622]\n",
      "[ 1.07835109  1.07835109]\n",
      "[ 1.07999851  1.07999851]\n",
      "[ 1.08163851  1.08163851]\n",
      "[ 1.08327114  1.08327114]\n",
      "[ 1.08489642  1.08489642]\n",
      "[ 1.08651439  1.08651439]\n",
      "[ 1.08812507  1.08812507]\n",
      "[ 1.08972851  1.08972851]\n",
      "[ 1.09132473  1.09132473]\n",
      "[ 1.09291377  1.09291377]\n",
      "[ 1.09449566  1.09449566]\n",
      "[ 1.09607043  1.09607043]\n",
      "[ 1.09763811  1.09763811]\n",
      "[ 1.09919874  1.09919874]\n",
      "[ 1.10075234  1.10075234]\n",
      "[ 1.10229896  1.10229896]\n",
      "[ 1.10383861  1.10383861]\n",
      "[ 1.10537134  1.10537134]\n",
      "[ 1.10689717  1.10689717]\n",
      "[ 1.10841613  1.10841613]\n",
      "[ 1.10992826  1.10992826]\n",
      "[ 1.11143358  1.11143358]\n",
      "[ 1.11293213  1.11293213]\n",
      "[ 1.11442394  1.11442394]\n",
      "[ 1.11590903  1.11590903]\n",
      "[ 1.11738744  1.11738744]\n",
      "[ 1.11885919  1.11885919]\n",
      "[ 1.12032433  1.12032433]\n",
      "[ 1.12178287  1.12178287]\n",
      "[ 1.12323484  1.12323484]\n",
      "[ 1.12468029  1.12468029]\n",
      "[ 1.12611923  1.12611923]\n",
      "[ 1.12755169  1.12755169]\n",
      "[ 1.12897771  1.12897771]\n",
      "[ 1.13039731  1.13039731]\n",
      "[ 1.13181052  1.13181052]\n",
      "[ 1.13321737  1.13321737]\n",
      "[ 1.13461789  1.13461789]\n",
      "[ 1.13601211  1.13601211]\n",
      "[ 1.13740006  1.13740006]\n",
      "[ 1.13878176  1.13878176]\n",
      "[ 1.14015724  1.14015724]\n",
      "[ 1.14152653  1.14152653]\n",
      "[ 1.14288966  1.14288966]\n",
      "[ 1.14424666  1.14424666]\n",
      "[ 1.14559755  1.14559755]\n",
      "[ 1.14694236  1.14694236]\n",
      "[ 1.14828112  1.14828112]\n",
      "[ 1.14961386  1.14961386]\n",
      "[ 1.15094059  1.15094059]\n",
      "[ 1.15226136  1.15226136]\n",
      "[ 1.15357619  1.15357619]\n",
      "[ 1.15488509  1.15488509]\n",
      "[ 1.15618811  1.15618811]\n",
      "[ 1.15748526  1.15748526]\n",
      "[ 1.15877658  1.15877658]\n",
      "[ 1.16006208  1.16006208]\n",
      "[ 1.16134181  1.16134181]\n",
      "The computed value of Theta: [ 1.16134181  1.16134181]\n",
      "3.48402541539\n"
     ]
    }
   ],
   "source": [
    "import numpy as np\n",
    "import matplotlib.pyplot as plt\n",
    "\n",
    "def gradientDescent(x, y, theta, alpha, m, numIterations):\n",
    "    xTrans = x.transpose()\n",
    "    for i in range(0, numIterations):\n",
    "        hypothesis = np.dot(x, theta)\n",
    "        loss = hypothesis - y \n",
    "        cost = np.sum(loss ** 2) / (2 * m)\n",
    "        #print(\"Iteration %d | Cost: %f\" % (i, cost))\n",
    "        # avg gradient per example\n",
    "        gradient = np.dot(xTrans, loss) / m \n",
    "        # update\n",
    "        theta = theta - alpha * gradient\n",
    "        print(theta)\n",
    "    return theta\n",
    "\n",
    "x = np.array([1,2])\n",
    "y= np.array([3,5])\n",
    "y=y.transpose()\n",
    "\n",
    "plt.plot(x,y,\"r\") \n",
    "plt.show()\n",
    "\n",
    "theta=([1,1])\n",
    "theta_grad= gradientDescent(x,y,theta,alpha=0.001,m=2,numIterations=100)\n",
    "\n",
    "print(\"The computed value of Theta:\",theta_grad)\n",
    "\n",
    "checker= np.array([1,2])\n",
    "basisVector = np.dot(theta_grad, checker.transpose())\n",
    "print(basisVector)"
   ]
  },
  {
   "cell_type": "markdown",
   "metadata": {},
   "source": [
    "### Multivariate Gradient Descent"
   ]
  },
  {
   "cell_type": "code",
   "execution_count": 118,
   "metadata": {
    "scrolled": true
   },
   "outputs": [
    {
     "name": "stdout",
     "output_type": "stream",
     "text": [
      "[[ 1.003  0.995]\n",
      " [ 1.004  0.992]]\n",
      "[[ 0.999957  0.992081]\n",
      " [ 0.999939  0.988115]]\n",
      "[[ 0.99695764  0.98920379]\n",
      " [ 0.99593991  0.98428928]]\n",
      "[[ 0.99400127  0.98636775]\n",
      " [ 0.99200181  0.98052196]]\n",
      "[[ 0.99108726  0.98357225]\n",
      " [ 0.98812378  0.97681217]]\n",
      "[[ 0.98821495  0.98081671]\n",
      " [ 0.98430493  0.97315904]]\n",
      "[[ 0.98538374  0.97810051]\n",
      " [ 0.98054438  0.96956173]]\n",
      "[[ 0.98259301  0.97542308]\n",
      " [ 0.97684125  0.96601941]]\n",
      "[[ 0.97984216  0.97278382]\n",
      " [ 0.97319469  0.96253126]]\n",
      "[[ 0.97713059  0.97018219]\n",
      " [ 0.96960384  0.95909646]]\n",
      "[[ 0.97445771  0.9676176 ]\n",
      " [ 0.96606789  0.95571422]]\n",
      "[[ 0.97182294  0.96508951]\n",
      " [ 0.96258601  0.95238375]]\n",
      "[[ 0.96922573  0.96259738]\n",
      " [ 0.95915739  0.94910429]]\n",
      "[[ 0.9666655   0.96014066]\n",
      " [ 0.95578123  0.94587507]]\n",
      "[[ 0.9641417   0.95771883]\n",
      " [ 0.95245676  0.94269533]]\n",
      "[[ 0.96165379  0.95533137]\n",
      " [ 0.9491832   0.93956434]]\n",
      "[[ 0.95920124  0.95297776]\n",
      " [ 0.94595979  0.93648138]]\n",
      "[[ 0.95678352  0.95065751]\n",
      " [ 0.94278579  0.93344572]]\n",
      "[[ 0.9544001   0.9483701 ]\n",
      " [ 0.93966045  0.93045666]]\n",
      "[[ 0.95205048  0.94611505]\n",
      " [ 0.93658304  0.92751351]]\n",
      "[[ 0.94973414  0.94389188]\n",
      " [ 0.93355286  0.92461557]]\n",
      "[[ 0.9474506   0.94170011]\n",
      " [ 0.93056919  0.92176217]]\n",
      "[[ 0.94519936  0.93953928]\n",
      " [ 0.92763134  0.91895264]]\n",
      "[[ 0.94297995  0.93740891]\n",
      " [ 0.92473863  0.91618634]]\n",
      "[[ 0.94079188  0.93530856]\n",
      " [ 0.92189039  0.91346262]]\n",
      "[[ 0.93863469  0.93323778]\n",
      " [ 0.91908594  0.91078083]]\n",
      "[[ 0.93650791  0.93119613]\n",
      " [ 0.91632464  0.90814036]]\n",
      "[[ 0.9344111   0.92918316]\n",
      " [ 0.91360584  0.90554058]]\n",
      "[[ 0.9323438   0.92719846]\n",
      " [ 0.9109289   0.90298089]]\n",
      "[[ 0.93030558  0.92524161]\n",
      " [ 0.90829321  0.9004607 ]]\n",
      "[[ 0.928296    0.92331217]\n",
      " [ 0.90569813  0.8979794 ]]\n",
      "[[ 0.92631463  0.92140976]\n",
      " [ 0.90314308  0.89553642]]\n",
      "[[ 0.92436106  0.91953395]\n",
      " [ 0.90062745  0.89313119]]\n",
      "[[ 0.92243486  0.91768436]\n",
      " [ 0.89815065  0.89076314]]\n",
      "[[ 0.92053563  0.9158606 ]\n",
      " [ 0.89571209  0.88843171]]\n",
      "[[ 0.91866297  0.91406228]\n",
      " [ 0.89331122  0.88613637]]\n",
      "[[ 0.91681648  0.91228901]\n",
      " [ 0.89094747  0.88387657]]\n",
      "[[ 0.91499576  0.91054043]\n",
      " [ 0.88862028  0.88165178]]\n",
      "[[ 0.91320044  0.90881616]\n",
      " [ 0.88632911  0.87946148]]\n",
      "[[ 0.91143014  0.90711585]\n",
      " [ 0.88407341  0.87730516]]\n",
      "[[ 0.90968447  0.90543914]\n",
      " [ 0.88185267  0.87518229]]\n",
      "[[ 0.90796308  0.90378567]\n",
      " [ 0.87966635  0.8730924 ]]\n",
      "[[ 0.9062656   0.90215509]\n",
      " [ 0.87751395  0.87103497]]\n",
      "[[ 0.90459167  0.90054707]\n",
      " [ 0.87539495  0.86900954]]\n",
      "[[ 0.90294095  0.89896127]\n",
      " [ 0.87330886  0.86701561]]\n",
      "[[ 0.90131308  0.89739735]\n",
      " [ 0.87125518  0.86505273]]\n",
      "[[ 0.89970773  0.895855  ]\n",
      " [ 0.86923344  0.86312042]]\n",
      "[[ 0.89812456  0.89433388]\n",
      " [ 0.86724315  0.86121823]]\n",
      "[[ 0.89656324  0.89283368]\n",
      " [ 0.86528385  0.85934571]]\n",
      "[[ 0.89502343  0.89135409]\n",
      " [ 0.86335506  0.85750242]]\n",
      "[[ 0.89350483  0.88989481]\n",
      " [ 0.86145635  0.85568791]]\n",
      "[[ 0.89200711  0.88845552]\n",
      " [ 0.85958725  0.85390177]]\n",
      "[[ 0.89052996  0.88703593]\n",
      " [ 0.85774733  0.85214357]]\n",
      "[[ 0.88907308  0.88563574]\n",
      " [ 0.85593615  0.85041288]]\n",
      "[[ 0.88763616  0.88425467]\n",
      " [ 0.85415327  0.8487093 ]]\n",
      "[[ 0.88621891  0.88289243]\n",
      " [ 0.85239829  0.84703242]]\n",
      "[[ 0.88482103  0.88154875]\n",
      " [ 0.85067077  0.84538185]]\n",
      "[[ 0.88344223  0.88022333]\n",
      " [ 0.84897032  0.84375719]]\n",
      "[[ 0.88208222  0.87891591]\n",
      " [ 0.84729652  0.84215806]]\n",
      "[[ 0.88074074  0.87762623]\n",
      " [ 0.84564898  0.84058407]]\n",
      "[[ 0.87941749  0.87635401]\n",
      " [ 0.8440273   0.83903484]]\n",
      "[[ 0.87811221  0.87509899]\n",
      " [ 0.84243111  0.83751001]]\n",
      "[[ 0.87682463  0.87386093]\n",
      " [ 0.84086001  0.83600922]]\n",
      "[[ 0.87555449  0.87263956]\n",
      " [ 0.83931364  0.8345321 ]]\n",
      "[[ 0.87430152  0.87143464]\n",
      " [ 0.83779162  0.8330783 ]]\n",
      "[[ 0.87306547  0.87024591]\n",
      " [ 0.83629359  0.83164748]]\n",
      "[[ 0.87184609  0.86907315]\n",
      " [ 0.8348192   0.83023928]]\n",
      "[[ 0.87064313  0.86791611]\n",
      " [ 0.83336809  0.82885338]]\n",
      "[[ 0.86945633  0.86677456]\n",
      " [ 0.8319399   0.82748943]]\n",
      "[[ 0.86828547  0.86564826]\n",
      " [ 0.83053431  0.82614712]]\n",
      "[[ 0.86713031  0.86453699]\n",
      " [ 0.82915097  0.82482611]]\n",
      "[[ 0.8659906   0.86344052]\n",
      " [ 0.82778955  0.82352609]]\n",
      "[[ 0.86486612  0.86235863]\n",
      " [ 0.82644972  0.82224674]]\n",
      "[[ 0.86375664  0.86129111]\n",
      " [ 0.82513116  0.82098776]]\n",
      "[[ 0.86266194  0.86023774]\n",
      " [ 0.82383355  0.81974885]]\n",
      "[[ 0.86158179  0.85919831]\n",
      " [ 0.82255658  0.8185297 ]]\n",
      "[[ 0.86051599  0.85817261]\n",
      " [ 0.82129994  0.81733001]]\n",
      "[[ 0.85946431  0.85716044]\n",
      " [ 0.82006333  0.8161495 ]]\n",
      "[[ 0.85842654  0.85616159]\n",
      " [ 0.81884645  0.81498788]]\n",
      "[[ 0.85740249  0.85517587]\n",
      " [ 0.817649    0.81384487]]\n",
      "[[ 0.85639193  0.85420308]\n",
      " [ 0.81647069  0.81272019]]\n",
      "[[ 0.85539468  0.85324302]\n",
      " [ 0.81531124  0.81161357]]\n",
      "[[ 0.85441052  0.85229551]\n",
      " [ 0.81417036  0.81052473]]\n",
      "[[ 0.85343928  0.85136036]\n",
      " [ 0.81304779  0.80945342]]\n",
      "[[ 0.85248075  0.85043738]\n",
      " [ 0.81194323  0.80839936]]\n",
      "[[ 0.85153474  0.8495264 ]\n",
      " [ 0.81085644  0.80736231]]\n",
      "[[ 0.85060107  0.84862723]\n",
      " [ 0.80978713  0.806342  ]]\n",
      "[[ 0.84967956  0.8477397 ]\n",
      " [ 0.80873505  0.80533819]]\n",
      "[[ 0.84877001  0.84686364]\n",
      " [ 0.80769994  0.80435063]]\n",
      "[[ 0.84787226  0.84599886]\n",
      " [ 0.80668155  0.80337908]]\n",
      "[[ 0.84698613  0.84514522]\n",
      " [ 0.80567963  0.80242329]]\n",
      "[[ 0.84611144  0.84430253]\n",
      " [ 0.80469393  0.80148304]]\n",
      "[[ 0.84524803  0.84347063]\n",
      " [ 0.80372421  0.8005581 ]]\n",
      "[[ 0.84439572  0.84264937]\n",
      " [ 0.80277023  0.79964822]]\n",
      "[[ 0.84355435  0.84183859]\n",
      " [ 0.80183176  0.79875319]]\n",
      "[[ 0.84272376  0.84103812]\n",
      " [ 0.80090856  0.79787279]]\n",
      "[[ 0.84190378  0.84024782]\n",
      " [ 0.80000041  0.7970068 ]]\n",
      "[[ 0.84109426  0.83946754]\n",
      " [ 0.79910708  0.79615499]]\n",
      "[[ 0.84029503  0.83869711]\n",
      " [ 0.79822835  0.79531717]]\n",
      "[[ 0.83950596  0.83793641]\n",
      " [ 0.797364    0.79449312]]\n",
      "The computed value of Theta: [[ 0.83950596  0.83793641]\n",
      " [ 0.797364    0.79449312]]\n",
      "[[ 2.51537878  2.38635024]]\n"
     ]
    }
   ],
   "source": [
    "x = np.matrix([[1,2], [3, 4]])\n",
    "y= np.matrix([3, 5])\n",
    "y=y.transpose()\n",
    "plt.plot(x,y,\"r\") \n",
    "#plt.show()\n",
    "\n",
    "theta=([1,1])\n",
    "theta_grad= gradientDescent(x,y,theta,alpha=0.001,m=2,numIterations=100)\n",
    "\n",
    "print(\"The computed value of Theta:\",theta_grad)\n",
    "\n",
    "checker= np.array([1,2])\n",
    "basisVector = np.dot(theta_grad, checker.transpose())\n",
    "print(basisVector)"
   ]
  },
  {
   "cell_type": "markdown",
   "metadata": {},
   "source": [
    "### Stochastic Gradient Descent"
   ]
  },
  {
   "cell_type": "markdown",
   "metadata": {},
   "source": [
    "For more details: http://scikit-learn.org/stable/modules/sgd.html"
   ]
  },
  {
   "cell_type": "markdown",
   "metadata": {},
   "source": [
    "# Section 2.2\n",
    "# Section 2.2.1\n",
    "# Single Variable Linear Regression"
   ]
  },
  {
   "cell_type": "markdown",
   "metadata": {},
   "source": [
    "### Import Necessary Libraries:"
   ]
  },
  {
   "cell_type": "code",
   "execution_count": 2,
   "metadata": {
    "collapsed": true,
    "scrolled": true
   },
   "outputs": [],
   "source": [
    "import matplotlib.pyplot as plt\n",
    "import numpy as np\n",
    "from sklearn import datasets, linear_model\n",
    "from sklearn.metrics import mean_squared_error, r2_score"
   ]
  },
  {
   "cell_type": "markdown",
   "metadata": {},
   "source": [
    "### Load the diabetes dataset"
   ]
  },
  {
   "cell_type": "code",
   "execution_count": 3,
   "metadata": {
    "collapsed": true,
    "scrolled": true
   },
   "outputs": [],
   "source": [
    "diabetes = datasets.load_diabetes()"
   ]
  },
  {
   "cell_type": "markdown",
   "metadata": {},
   "source": [
    "### Lets Take a look at the dataset:"
   ]
  },
  {
   "cell_type": "code",
   "execution_count": 4,
   "metadata": {
    "scrolled": true
   },
   "outputs": [
    {
     "name": "stdout",
     "output_type": "stream",
     "text": [
      "{'data': array([[ 0.03807591,  0.05068012,  0.06169621, ..., -0.00259226,\n",
      "         0.01990842, -0.01764613],\n",
      "       [-0.00188202, -0.04464164, -0.05147406, ..., -0.03949338,\n",
      "        -0.06832974, -0.09220405],\n",
      "       [ 0.08529891,  0.05068012,  0.04445121, ..., -0.00259226,\n",
      "         0.00286377, -0.02593034],\n",
      "       ..., \n",
      "       [ 0.04170844,  0.05068012, -0.01590626, ..., -0.01107952,\n",
      "        -0.04687948,  0.01549073],\n",
      "       [-0.04547248, -0.04464164,  0.03906215, ...,  0.02655962,\n",
      "         0.04452837, -0.02593034],\n",
      "       [-0.04547248, -0.04464164, -0.0730303 , ..., -0.03949338,\n",
      "        -0.00421986,  0.00306441]]), 'target': array([ 151.,   75.,  141.,  206.,  135.,   97.,  138.,   63.,  110.,\n",
      "        310.,  101.,   69.,  179.,  185.,  118.,  171.,  166.,  144.,\n",
      "         97.,  168.,   68.,   49.,   68.,  245.,  184.,  202.,  137.,\n",
      "         85.,  131.,  283.,  129.,   59.,  341.,   87.,   65.,  102.,\n",
      "        265.,  276.,  252.,   90.,  100.,   55.,   61.,   92.,  259.,\n",
      "         53.,  190.,  142.,   75.,  142.,  155.,  225.,   59.,  104.,\n",
      "        182.,  128.,   52.,   37.,  170.,  170.,   61.,  144.,   52.,\n",
      "        128.,   71.,  163.,  150.,   97.,  160.,  178.,   48.,  270.,\n",
      "        202.,  111.,   85.,   42.,  170.,  200.,  252.,  113.,  143.,\n",
      "         51.,   52.,  210.,   65.,  141.,   55.,  134.,   42.,  111.,\n",
      "         98.,  164.,   48.,   96.,   90.,  162.,  150.,  279.,   92.,\n",
      "         83.,  128.,  102.,  302.,  198.,   95.,   53.,  134.,  144.,\n",
      "        232.,   81.,  104.,   59.,  246.,  297.,  258.,  229.,  275.,\n",
      "        281.,  179.,  200.,  200.,  173.,  180.,   84.,  121.,  161.,\n",
      "         99.,  109.,  115.,  268.,  274.,  158.,  107.,   83.,  103.,\n",
      "        272.,   85.,  280.,  336.,  281.,  118.,  317.,  235.,   60.,\n",
      "        174.,  259.,  178.,  128.,   96.,  126.,  288.,   88.,  292.,\n",
      "         71.,  197.,  186.,   25.,   84.,   96.,  195.,   53.,  217.,\n",
      "        172.,  131.,  214.,   59.,   70.,  220.,  268.,  152.,   47.,\n",
      "         74.,  295.,  101.,  151.,  127.,  237.,  225.,   81.,  151.,\n",
      "        107.,   64.,  138.,  185.,  265.,  101.,  137.,  143.,  141.,\n",
      "         79.,  292.,  178.,   91.,  116.,   86.,  122.,   72.,  129.,\n",
      "        142.,   90.,  158.,   39.,  196.,  222.,  277.,   99.,  196.,\n",
      "        202.,  155.,   77.,  191.,   70.,   73.,   49.,   65.,  263.,\n",
      "        248.,  296.,  214.,  185.,   78.,   93.,  252.,  150.,   77.,\n",
      "        208.,   77.,  108.,  160.,   53.,  220.,  154.,  259.,   90.,\n",
      "        246.,  124.,   67.,   72.,  257.,  262.,  275.,  177.,   71.,\n",
      "         47.,  187.,  125.,   78.,   51.,  258.,  215.,  303.,  243.,\n",
      "         91.,  150.,  310.,  153.,  346.,   63.,   89.,   50.,   39.,\n",
      "        103.,  308.,  116.,  145.,   74.,   45.,  115.,  264.,   87.,\n",
      "        202.,  127.,  182.,  241.,   66.,   94.,  283.,   64.,  102.,\n",
      "        200.,  265.,   94.,  230.,  181.,  156.,  233.,   60.,  219.,\n",
      "         80.,   68.,  332.,  248.,   84.,  200.,   55.,   85.,   89.,\n",
      "         31.,  129.,   83.,  275.,   65.,  198.,  236.,  253.,  124.,\n",
      "         44.,  172.,  114.,  142.,  109.,  180.,  144.,  163.,  147.,\n",
      "         97.,  220.,  190.,  109.,  191.,  122.,  230.,  242.,  248.,\n",
      "        249.,  192.,  131.,  237.,   78.,  135.,  244.,  199.,  270.,\n",
      "        164.,   72.,   96.,  306.,   91.,  214.,   95.,  216.,  263.,\n",
      "        178.,  113.,  200.,  139.,  139.,   88.,  148.,   88.,  243.,\n",
      "         71.,   77.,  109.,  272.,   60.,   54.,  221.,   90.,  311.,\n",
      "        281.,  182.,  321.,   58.,  262.,  206.,  233.,  242.,  123.,\n",
      "        167.,   63.,  197.,   71.,  168.,  140.,  217.,  121.,  235.,\n",
      "        245.,   40.,   52.,  104.,  132.,   88.,   69.,  219.,   72.,\n",
      "        201.,  110.,   51.,  277.,   63.,  118.,   69.,  273.,  258.,\n",
      "         43.,  198.,  242.,  232.,  175.,   93.,  168.,  275.,  293.,\n",
      "        281.,   72.,  140.,  189.,  181.,  209.,  136.,  261.,  113.,\n",
      "        131.,  174.,  257.,   55.,   84.,   42.,  146.,  212.,  233.,\n",
      "         91.,  111.,  152.,  120.,   67.,  310.,   94.,  183.,   66.,\n",
      "        173.,   72.,   49.,   64.,   48.,  178.,  104.,  132.,  220.,   57.]), 'DESCR': 'Diabetes dataset\\n================\\n\\nNotes\\n-----\\n\\nTen baseline variables, age, sex, body mass index, average blood\\npressure, and six blood serum measurements were obtained for each of n =\\n442 diabetes patients, as well as the response of interest, a\\nquantitative measure of disease progression one year after baseline.\\n\\nData Set Characteristics:\\n\\n  :Number of Instances: 442\\n\\n  :Number of Attributes: First 10 columns are numeric predictive values\\n\\n  :Target: Column 11 is a quantitative measure of disease progression one year after baseline\\n\\n  :Attributes:\\n    :Age:\\n    :Sex:\\n    :Body mass index:\\n    :Average blood pressure:\\n    :S1:\\n    :S2:\\n    :S3:\\n    :S4:\\n    :S5:\\n    :S6:\\n\\nNote: Each of these 10 feature variables have been mean centered and scaled by the standard deviation times `n_samples` (i.e. the sum of squares of each column totals 1).\\n\\nSource URL:\\nhttp://www4.stat.ncsu.edu/~boos/var.select/diabetes.html\\n\\nFor more information see:\\nBradley Efron, Trevor Hastie, Iain Johnstone and Robert Tibshirani (2004) \"Least Angle Regression,\" Annals of Statistics (with discussion), 407-499.\\n(http://web.stanford.edu/~hastie/Papers/LARS/LeastAngle_2002.pdf)\\n', 'feature_names': ['age', 'sex', 'bmi', 'bp', 's1', 's2', 's3', 's4', 's5', 's6']}\n",
      "<class 'sklearn.utils.Bunch'>\n"
     ]
    }
   ],
   "source": [
    "print(diabetes)\n",
    "print(type(diabetes))"
   ]
  },
  {
   "cell_type": "markdown",
   "metadata": {},
   "source": [
    "### Use only one feature"
   ]
  },
  {
   "cell_type": "code",
   "execution_count": 5,
   "metadata": {
    "collapsed": true,
    "scrolled": true
   },
   "outputs": [],
   "source": [
    "diabetes_X = diabetes.data[:, np.newaxis, 2]"
   ]
  },
  {
   "cell_type": "markdown",
   "metadata": {},
   "source": [
    "### Split the data into training/testing sets"
   ]
  },
  {
   "cell_type": "code",
   "execution_count": 6,
   "metadata": {
    "scrolled": true
   },
   "outputs": [
    {
     "name": "stdout",
     "output_type": "stream",
     "text": [
      "[[ 0.06169621]\n",
      " [-0.05147406]\n",
      " [ 0.04445121]\n",
      " [-0.01159501]\n",
      " [-0.03638469]\n",
      " [-0.04069594]\n",
      " [-0.04716281]\n",
      " [-0.00189471]\n",
      " [ 0.06169621]\n",
      " [ 0.03906215]\n",
      " [-0.08380842]\n",
      " [ 0.01750591]\n",
      " [-0.02884001]\n",
      " [-0.00189471]\n",
      " [-0.02560657]\n",
      " [-0.01806189]\n",
      " [ 0.04229559]\n",
      " [ 0.01211685]\n",
      " [-0.0105172 ]\n",
      " [-0.01806189]\n",
      " [-0.05686312]\n",
      " [-0.02237314]\n",
      " [-0.00405033]\n",
      " [ 0.06061839]\n",
      " [ 0.03582872]\n",
      " [-0.01267283]\n",
      " [-0.07734155]\n",
      " [ 0.05954058]\n",
      " [-0.02129532]\n",
      " [-0.00620595]\n",
      " [ 0.04445121]\n",
      " [-0.06548562]\n",
      " [ 0.12528712]\n",
      " [-0.05039625]\n",
      " [-0.06332999]\n",
      " [-0.03099563]\n",
      " [ 0.02289497]\n",
      " [ 0.01103904]\n",
      " [ 0.07139652]\n",
      " [ 0.01427248]\n",
      " [-0.00836158]\n",
      " [-0.06764124]\n",
      " [-0.0105172 ]\n",
      " [-0.02345095]\n",
      " [ 0.06816308]\n",
      " [-0.03530688]\n",
      " [-0.01159501]\n",
      " [-0.0730303 ]\n",
      " [-0.04177375]\n",
      " [ 0.01427248]\n",
      " [-0.00728377]\n",
      " [ 0.0164281 ]\n",
      " [-0.00943939]\n",
      " [-0.01590626]\n",
      " [ 0.0250506 ]\n",
      " [-0.04931844]\n",
      " [ 0.04121778]\n",
      " [-0.06332999]\n",
      " [-0.06440781]\n",
      " [-0.02560657]\n",
      " [-0.00405033]\n",
      " [ 0.00457217]\n",
      " [-0.00728377]\n",
      " [-0.0374625 ]\n",
      " [-0.02560657]\n",
      " [-0.02452876]\n",
      " [-0.01806189]\n",
      " [-0.01482845]\n",
      " [-0.02991782]\n",
      " [-0.046085  ]\n",
      " [-0.06979687]\n",
      " [ 0.03367309]\n",
      " [-0.00405033]\n",
      " [-0.02021751]\n",
      " [ 0.00241654]\n",
      " [-0.03099563]\n",
      " [ 0.02828403]\n",
      " [-0.03638469]\n",
      " [-0.05794093]\n",
      " [-0.0374625 ]\n",
      " [ 0.01211685]\n",
      " [-0.02237314]\n",
      " [-0.03530688]\n",
      " [ 0.00996123]\n",
      " [-0.03961813]\n",
      " [ 0.07139652]\n",
      " [-0.07518593]\n",
      " [-0.00620595]\n",
      " [-0.04069594]\n",
      " [-0.04824063]\n",
      " [-0.02560657]\n",
      " [ 0.0519959 ]\n",
      " [ 0.00457217]\n",
      " [-0.06440781]\n",
      " [-0.01698407]\n",
      " [-0.05794093]\n",
      " [ 0.00996123]\n",
      " [ 0.08864151]\n",
      " [-0.00512814]\n",
      " [-0.06440781]\n",
      " [ 0.01750591]\n",
      " [-0.04500719]\n",
      " [ 0.02828403]\n",
      " [ 0.04121778]\n",
      " [ 0.06492964]\n",
      " [-0.03207344]\n",
      " [-0.07626374]\n",
      " [ 0.04984027]\n",
      " [ 0.04552903]\n",
      " [-0.00943939]\n",
      " [-0.03207344]\n",
      " [ 0.00457217]\n",
      " [ 0.02073935]\n",
      " [ 0.01427248]\n",
      " [ 0.11019775]\n",
      " [ 0.00133873]\n",
      " [ 0.05846277]\n",
      " [-0.02129532]\n",
      " [-0.0105172 ]\n",
      " [-0.04716281]\n",
      " [ 0.00457217]\n",
      " [ 0.01750591]\n",
      " [ 0.08109682]\n",
      " [ 0.0347509 ]\n",
      " [ 0.02397278]\n",
      " [-0.00836158]\n",
      " [-0.06117437]\n",
      " [-0.00189471]\n",
      " [-0.06225218]\n",
      " [ 0.0164281 ]\n",
      " [ 0.09618619]\n",
      " [-0.06979687]\n",
      " [-0.02129532]\n",
      " [-0.05362969]\n",
      " [ 0.0433734 ]\n",
      " [ 0.05630715]\n",
      " [-0.0816528 ]\n",
      " [ 0.04984027]\n",
      " [ 0.11127556]\n",
      " [ 0.06169621]\n",
      " [ 0.01427248]\n",
      " [ 0.04768465]\n",
      " [ 0.01211685]\n",
      " [ 0.00564998]\n",
      " [ 0.04660684]\n",
      " [ 0.12852056]\n",
      " [ 0.05954058]\n",
      " [ 0.09295276]\n",
      " [ 0.01535029]\n",
      " [-0.00512814]\n",
      " [ 0.0703187 ]\n",
      " [-0.00405033]\n",
      " [-0.00081689]\n",
      " [-0.04392938]\n",
      " [ 0.02073935]\n",
      " [ 0.06061839]\n",
      " [-0.0105172 ]\n",
      " [-0.03315126]\n",
      " [-0.06548562]\n",
      " [ 0.0433734 ]\n",
      " [-0.06225218]\n",
      " [ 0.06385183]\n",
      " [ 0.03043966]\n",
      " [ 0.07247433]\n",
      " [-0.0191397 ]\n",
      " [-0.06656343]\n",
      " [-0.06009656]\n",
      " [ 0.06924089]\n",
      " [ 0.05954058]\n",
      " [-0.02668438]\n",
      " [-0.02021751]\n",
      " [-0.046085  ]\n",
      " [ 0.07139652]\n",
      " [-0.07949718]\n",
      " [ 0.00996123]\n",
      " [-0.03854032]\n",
      " [ 0.01966154]\n",
      " [ 0.02720622]\n",
      " [-0.00836158]\n",
      " [-0.01590626]\n",
      " [ 0.00457217]\n",
      " [-0.04285156]\n",
      " [ 0.00564998]\n",
      " [-0.03530688]\n",
      " [ 0.02397278]\n",
      " [-0.01806189]\n",
      " [ 0.04229559]\n",
      " [-0.0547075 ]\n",
      " [-0.00297252]\n",
      " [-0.06656343]\n",
      " [-0.01267283]\n",
      " [-0.04177375]\n",
      " [-0.03099563]\n",
      " [-0.00512814]\n",
      " [-0.05901875]\n",
      " [ 0.0250506 ]\n",
      " [-0.046085  ]\n",
      " [ 0.00349435]\n",
      " [ 0.05415152]\n",
      " [-0.04500719]\n",
      " [-0.05794093]\n",
      " [-0.05578531]\n",
      " [ 0.00133873]\n",
      " [ 0.03043966]\n",
      " [ 0.00672779]\n",
      " [ 0.04660684]\n",
      " [ 0.02612841]\n",
      " [ 0.04552903]\n",
      " [ 0.04013997]\n",
      " [-0.01806189]\n",
      " [ 0.01427248]\n",
      " [ 0.03690653]\n",
      " [ 0.00349435]\n",
      " [-0.07087468]\n",
      " [-0.03315126]\n",
      " [ 0.09403057]\n",
      " [ 0.03582872]\n",
      " [ 0.03151747]\n",
      " [-0.06548562]\n",
      " [-0.04177375]\n",
      " [-0.03961813]\n",
      " [-0.03854032]\n",
      " [-0.02560657]\n",
      " [-0.02345095]\n",
      " [-0.06656343]\n",
      " [ 0.03259528]\n",
      " [-0.046085  ]\n",
      " [-0.02991782]\n",
      " [-0.01267283]\n",
      " [-0.01590626]\n",
      " [ 0.07139652]\n",
      " [-0.03099563]\n",
      " [ 0.00026092]\n",
      " [ 0.03690653]\n",
      " [ 0.03906215]\n",
      " [-0.01482845]\n",
      " [ 0.00672779]\n",
      " [-0.06871905]\n",
      " [-0.00943939]\n",
      " [ 0.01966154]\n",
      " [ 0.07462995]\n",
      " [-0.00836158]\n",
      " [-0.02345095]\n",
      " [-0.046085  ]\n",
      " [ 0.05415152]\n",
      " [-0.03530688]\n",
      " [-0.03207344]\n",
      " [-0.0816528 ]\n",
      " [ 0.04768465]\n",
      " [ 0.06061839]\n",
      " [ 0.05630715]\n",
      " [ 0.09834182]\n",
      " [ 0.05954058]\n",
      " [ 0.03367309]\n",
      " [ 0.05630715]\n",
      " [-0.06548562]\n",
      " [ 0.16085492]\n",
      " [-0.05578531]\n",
      " [-0.02452876]\n",
      " [-0.03638469]\n",
      " [-0.00836158]\n",
      " [-0.04177375]\n",
      " [ 0.12744274]\n",
      " [-0.07734155]\n",
      " [ 0.02828403]\n",
      " [-0.02560657]\n",
      " [-0.06225218]\n",
      " [-0.00081689]\n",
      " [ 0.08864151]\n",
      " [-0.03207344]\n",
      " [ 0.03043966]\n",
      " [ 0.00888341]\n",
      " [ 0.00672779]\n",
      " [-0.02021751]\n",
      " [-0.02452876]\n",
      " [-0.01159501]\n",
      " [ 0.02612841]\n",
      " [-0.05901875]\n",
      " [-0.03638469]\n",
      " [-0.02452876]\n",
      " [ 0.01858372]\n",
      " [-0.0902753 ]\n",
      " [-0.00512814]\n",
      " [-0.05255187]\n",
      " [-0.02237314]\n",
      " [-0.02021751]\n",
      " [-0.0547075 ]\n",
      " [-0.00620595]\n",
      " [-0.01698407]\n",
      " [ 0.05522933]\n",
      " [ 0.07678558]\n",
      " [ 0.01858372]\n",
      " [-0.02237314]\n",
      " [ 0.09295276]\n",
      " [-0.03099563]\n",
      " [ 0.03906215]\n",
      " [-0.06117437]\n",
      " [-0.00836158]\n",
      " [-0.0374625 ]\n",
      " [-0.01375064]\n",
      " [ 0.07355214]\n",
      " [-0.02452876]\n",
      " [ 0.03367309]\n",
      " [ 0.0347509 ]\n",
      " [-0.03854032]\n",
      " [-0.03961813]\n",
      " [-0.00189471]\n",
      " [-0.03099563]\n",
      " [-0.046085  ]\n",
      " [ 0.00133873]\n",
      " [ 0.06492964]\n",
      " [ 0.04013997]\n",
      " [-0.02345095]\n",
      " [ 0.05307371]\n",
      " [ 0.04013997]\n",
      " [-0.02021751]\n",
      " [ 0.01427248]\n",
      " [-0.03422907]\n",
      " [ 0.00672779]\n",
      " [ 0.00457217]\n",
      " [ 0.03043966]\n",
      " [ 0.0519959 ]\n",
      " [ 0.06169621]\n",
      " [-0.00728377]\n",
      " [ 0.00564998]\n",
      " [ 0.05415152]\n",
      " [-0.00836158]\n",
      " [ 0.114509  ]\n",
      " [ 0.06708527]\n",
      " [-0.05578531]\n",
      " [ 0.03043966]\n",
      " [-0.02560657]\n",
      " [ 0.10480869]\n",
      " [-0.00620595]\n",
      " [-0.04716281]\n",
      " [-0.04824063]\n",
      " [ 0.08540807]\n",
      " [-0.01267283]\n",
      " [-0.03315126]\n",
      " [-0.00728377]\n",
      " [-0.01375064]\n",
      " [ 0.05954058]\n",
      " [ 0.02181716]\n",
      " [ 0.01858372]\n",
      " [-0.01159501]\n",
      " [-0.00297252]\n",
      " [ 0.01750591]\n",
      " [-0.02991782]\n",
      " [-0.02021751]\n",
      " [-0.05794093]\n",
      " [ 0.06061839]\n",
      " [-0.04069594]\n",
      " [-0.07195249]\n",
      " [-0.05578531]\n",
      " [ 0.04552903]\n",
      " [-0.00943939]\n",
      " [-0.03315126]\n",
      " [ 0.04984027]\n",
      " [-0.08488624]\n",
      " [ 0.00564998]\n",
      " [ 0.02073935]\n",
      " [-0.00728377]\n",
      " [ 0.10480869]\n",
      " [-0.02452876]\n",
      " [-0.00620595]\n",
      " [-0.03854032]\n",
      " [ 0.13714305]\n",
      " [ 0.17055523]\n",
      " [ 0.00241654]\n",
      " [ 0.03798434]\n",
      " [-0.05794093]\n",
      " [-0.00943939]\n",
      " [-0.02345095]\n",
      " [-0.0105172 ]\n",
      " [-0.03422907]\n",
      " [-0.00297252]\n",
      " [ 0.06816308]\n",
      " [ 0.00996123]\n",
      " [ 0.00241654]\n",
      " [-0.03854032]\n",
      " [ 0.02612841]\n",
      " [-0.08919748]\n",
      " [ 0.06061839]\n",
      " [-0.02884001]\n",
      " [-0.02991782]\n",
      " [-0.0191397 ]\n",
      " [-0.04069594]\n",
      " [ 0.01535029]\n",
      " [-0.02452876]\n",
      " [ 0.00133873]\n",
      " [ 0.06924089]\n",
      " [-0.06979687]\n",
      " [-0.02991782]\n",
      " [-0.046085  ]\n",
      " [ 0.01858372]\n",
      " [ 0.00133873]\n",
      " [-0.03099563]\n",
      " [-0.00405033]\n",
      " [ 0.01535029]\n",
      " [ 0.02289497]\n",
      " [ 0.04552903]\n",
      " [-0.04500719]\n",
      " [-0.03315126]\n",
      " [ 0.097264  ]\n",
      " [ 0.05415152]\n",
      " [ 0.12313149]\n",
      " [-0.08057499]\n",
      " [ 0.09295276]\n",
      " [-0.05039625]\n",
      " [-0.01159501]\n",
      " [-0.0277622 ]\n",
      " [ 0.05846277]\n",
      " [ 0.08540807]\n",
      " [-0.00081689]\n",
      " [ 0.00672779]\n",
      " [ 0.00888341]\n",
      " [ 0.08001901]\n",
      " [ 0.07139652]\n",
      " [-0.02452876]\n",
      " [-0.0547075 ]\n",
      " [-0.03638469]\n",
      " [ 0.0164281 ]] [[ 0.07786339]\n",
      " [-0.03961813]\n",
      " [ 0.01103904]\n",
      " [-0.04069594]\n",
      " [-0.03422907]\n",
      " [ 0.00564998]\n",
      " [ 0.08864151]\n",
      " [-0.03315126]\n",
      " [-0.05686312]\n",
      " [-0.03099563]\n",
      " [ 0.05522933]\n",
      " [-0.06009656]\n",
      " [ 0.00133873]\n",
      " [-0.02345095]\n",
      " [-0.07410811]\n",
      " [ 0.01966154]\n",
      " [-0.01590626]\n",
      " [-0.01590626]\n",
      " [ 0.03906215]\n",
      " [-0.0730303 ]]\n"
     ]
    }
   ],
   "source": [
    "diabetes_X_train = diabetes_X[:-20]\n",
    "diabetes_X_test = diabetes_X[-20:]\n",
    "\n",
    "print(diabetes_X_train, diabetes_X_test)"
   ]
  },
  {
   "cell_type": "markdown",
   "metadata": {},
   "source": [
    "### Split the targets into training/testing sets"
   ]
  },
  {
   "cell_type": "code",
   "execution_count": 8,
   "metadata": {
    "scrolled": true
   },
   "outputs": [
    {
     "name": "stdout",
     "output_type": "stream",
     "text": [
      "[ 151.   75.  141.  206.  135.   97.  138.   63.  110.  310.  101.   69.\n",
      "  179.  185.  118.  171.  166.  144.   97.  168.   68.   49.   68.  245.\n",
      "  184.  202.  137.   85.  131.  283.  129.   59.  341.   87.   65.  102.\n",
      "  265.  276.  252.   90.  100.   55.   61.   92.  259.   53.  190.  142.\n",
      "   75.  142.  155.  225.   59.  104.  182.  128.   52.   37.  170.  170.\n",
      "   61.  144.   52.  128.   71.  163.  150.   97.  160.  178.   48.  270.\n",
      "  202.  111.   85.   42.  170.  200.  252.  113.  143.   51.   52.  210.\n",
      "   65.  141.   55.  134.   42.  111.   98.  164.   48.   96.   90.  162.\n",
      "  150.  279.   92.   83.  128.  102.  302.  198.   95.   53.  134.  144.\n",
      "  232.   81.  104.   59.  246.  297.  258.  229.  275.  281.  179.  200.\n",
      "  200.  173.  180.   84.  121.  161.   99.  109.  115.  268.  274.  158.\n",
      "  107.   83.  103.  272.   85.  280.  336.  281.  118.  317.  235.   60.\n",
      "  174.  259.  178.  128.   96.  126.  288.   88.  292.   71.  197.  186.\n",
      "   25.   84.   96.  195.   53.  217.  172.  131.  214.   59.   70.  220.\n",
      "  268.  152.   47.   74.  295.  101.  151.  127.  237.  225.   81.  151.\n",
      "  107.   64.  138.  185.  265.  101.  137.  143.  141.   79.  292.  178.\n",
      "   91.  116.   86.  122.   72.  129.  142.   90.  158.   39.  196.  222.\n",
      "  277.   99.  196.  202.  155.   77.  191.   70.   73.   49.   65.  263.\n",
      "  248.  296.  214.  185.   78.   93.  252.  150.   77.  208.   77.  108.\n",
      "  160.   53.  220.  154.  259.   90.  246.  124.   67.   72.  257.  262.\n",
      "  275.  177.   71.   47.  187.  125.   78.   51.  258.  215.  303.  243.\n",
      "   91.  150.  310.  153.  346.   63.   89.   50.   39.  103.  308.  116.\n",
      "  145.   74.   45.  115.  264.   87.  202.  127.  182.  241.   66.   94.\n",
      "  283.   64.  102.  200.  265.   94.  230.  181.  156.  233.   60.  219.\n",
      "   80.   68.  332.  248.   84.  200.   55.   85.   89.   31.  129.   83.\n",
      "  275.   65.  198.  236.  253.  124.   44.  172.  114.  142.  109.  180.\n",
      "  144.  163.  147.   97.  220.  190.  109.  191.  122.  230.  242.  248.\n",
      "  249.  192.  131.  237.   78.  135.  244.  199.  270.  164.   72.   96.\n",
      "  306.   91.  214.   95.  216.  263.  178.  113.  200.  139.  139.   88.\n",
      "  148.   88.  243.   71.   77.  109.  272.   60.   54.  221.   90.  311.\n",
      "  281.  182.  321.   58.  262.  206.  233.  242.  123.  167.   63.  197.\n",
      "   71.  168.  140.  217.  121.  235.  245.   40.   52.  104.  132.   88.\n",
      "   69.  219.   72.  201.  110.   51.  277.   63.  118.   69.  273.  258.\n",
      "   43.  198.  242.  232.  175.   93.  168.  275.  293.  281.   72.  140.\n",
      "  189.  181.  209.  136.  261.  113.  131.  174.  257.   55.   84.   42.\n",
      "  146.  212.]\n"
     ]
    }
   ],
   "source": [
    "diabetes_y_train = diabetes.target[:-20]\n",
    "diabetes_y_test = diabetes.target[-20:]\n",
    "\n",
    "print(diabetes_y_train)\n"
   ]
  },
  {
   "cell_type": "markdown",
   "metadata": {},
   "source": [
    "### Create linear regression object"
   ]
  },
  {
   "cell_type": "code",
   "execution_count": 11,
   "metadata": {
    "collapsed": true,
    "scrolled": true
   },
   "outputs": [],
   "source": [
    "regr = linear_model.LinearRegression()"
   ]
  },
  {
   "cell_type": "markdown",
   "metadata": {},
   "source": [
    "### Train the model using the training sets"
   ]
  },
  {
   "cell_type": "code",
   "execution_count": 12,
   "metadata": {
    "scrolled": true
   },
   "outputs": [
    {
     "data": {
      "text/plain": [
       "LinearRegression(copy_X=True, fit_intercept=True, n_jobs=1, normalize=False)"
      ]
     },
     "execution_count": 12,
     "metadata": {},
     "output_type": "execute_result"
    }
   ],
   "source": [
    "regr.fit(diabetes_X_train, diabetes_y_train)"
   ]
  },
  {
   "cell_type": "markdown",
   "metadata": {},
   "source": [
    "### Make predictions using the testing set"
   ]
  },
  {
   "cell_type": "code",
   "execution_count": 13,
   "metadata": {
    "scrolled": true
   },
   "outputs": [
    {
     "name": "stdout",
     "output_type": "stream",
     "text": [
      "[[ 0.07786339]\n",
      " [-0.03961813]\n",
      " [ 0.01103904]\n",
      " [-0.04069594]\n",
      " [-0.03422907]\n",
      " [ 0.00564998]\n",
      " [ 0.08864151]\n",
      " [-0.03315126]\n",
      " [-0.05686312]\n",
      " [-0.03099563]\n",
      " [ 0.05522933]\n",
      " [-0.06009656]\n",
      " [ 0.00133873]\n",
      " [-0.02345095]\n",
      " [-0.07410811]\n",
      " [ 0.01966154]\n",
      " [-0.01590626]\n",
      " [-0.01590626]\n",
      " [ 0.03906215]\n",
      " [-0.0730303 ]]\n",
      "[ 225.9732401   115.74763374  163.27610621  114.73638965  120.80385422\n",
      "  158.21988574  236.08568105  121.81509832   99.56772822  123.83758651\n",
      "  204.73711411   96.53399594  154.17490936  130.91629517   83.3878227\n",
      "  171.36605897  137.99500384  137.99500384  189.56845268   84.3990668 ]\n",
      "[ 233.   91.  111.  152.  120.   67.  310.   94.  183.   66.  173.   72.\n",
      "   49.   64.   48.  178.  104.  132.  220.   57.]\n"
     ]
    }
   ],
   "source": [
    "diabetes_y_pred = regr.predict(diabetes_X_test)\n",
    "#print(diabetes_X_test)\n",
    "print(diabetes_y_pred)\n",
    "print(diabetes_y_test)"
   ]
  },
  {
   "cell_type": "markdown",
   "metadata": {},
   "source": [
    "### The coefficients"
   ]
  },
  {
   "cell_type": "code",
   "execution_count": 128,
   "metadata": {
    "scrolled": true
   },
   "outputs": [
    {
     "name": "stdout",
     "output_type": "stream",
     "text": [
      "Coefficients: \n",
      " [ 938.23786125]\n"
     ]
    }
   ],
   "source": [
    "print('Coefficients: \\n', regr.coef_)"
   ]
  },
  {
   "cell_type": "markdown",
   "metadata": {},
   "source": [
    "### The mean squared error"
   ]
  },
  {
   "cell_type": "code",
   "execution_count": 14,
   "metadata": {
    "scrolled": true
   },
   "outputs": [
    {
     "name": "stdout",
     "output_type": "stream",
     "text": [
      "Mean squared error: 2548.07\n"
     ]
    }
   ],
   "source": [
    "print(\"Mean squared error: %.2f\" % mean_squared_error(diabetes_y_test, diabetes_y_pred))"
   ]
  },
  {
   "cell_type": "markdown",
   "metadata": {},
   "source": [
    "### Explained variance score: 1 is perfect prediction"
   ]
  },
  {
   "cell_type": "code",
   "execution_count": 15,
   "metadata": {
    "scrolled": true
   },
   "outputs": [
    {
     "name": "stdout",
     "output_type": "stream",
     "text": [
      "Variance score: 0.47\n"
     ]
    }
   ],
   "source": [
    "print('Variance score: %.2f' % r2_score(diabetes_y_test, diabetes_y_pred))"
   ]
  },
  {
   "cell_type": "markdown",
   "metadata": {},
   "source": [
    "### Plot outputs"
   ]
  },
  {
   "cell_type": "code",
   "execution_count": 16,
   "metadata": {
    "scrolled": true
   },
   "outputs": [
    {
     "data": {
      "image/png": "[encoded data removed]",
      "text/plain": [
       "<matplotlib.figure.Figure at 0x158f57f5ba8>"
      ]
     },
     "metadata": {},
     "output_type": "display_data"
    }
   ],
   "source": [
    "plt.scatter(diabetes_X_test, diabetes_y_test,  color='black')\n",
    "plt.plot(diabetes_X_test, diabetes_y_pred, color='blue', linewidth=3)\n",
    "\n",
    "plt.xticks(())\n",
    "plt.yticks(())\n",
    "\n",
    "plt.show()"
   ]
  },
  {
   "cell_type": "markdown",
   "metadata": {},
   "source": [
    "# Section 2.2.2\n",
    "# Multivariate Linear Regression"
   ]
  },
  {
   "cell_type": "markdown",
   "metadata": {},
   "source": [
    "### Importing necessary Libraries"
   ]
  },
  {
   "cell_type": "code",
   "execution_count": 27,
   "metadata": {
    "collapsed": true,
    "scrolled": true
   },
   "outputs": [],
   "source": [
    "import pandas as pd\n",
    "from sklearn import linear_model\n",
    "from sklearn.tree import DecisionTreeClassifier"
   ]
  },
  {
   "cell_type": "markdown",
   "metadata": {},
   "source": [
    "### Loading Dataset from CSV Files"
   ]
  },
  {
   "cell_type": "code",
   "execution_count": 28,
   "metadata": {
    "collapsed": true,
    "scrolled": true
   },
   "outputs": [],
   "source": [
    "dataTrain = pd.read_csv(\"dataTrain.csv\")\n",
    "dataTest = pd.read_csv(\"dataTest.csv\")"
   ]
  },
  {
   "cell_type": "markdown",
   "metadata": {},
   "source": [
    "### Lets Take a Look at the Training Set:"
   ]
  },
  {
   "cell_type": "code",
   "execution_count": 29,
   "metadata": {
    "scrolled": true
   },
   "outputs": [
    {
     "data": {
      "text/html": [
       "<div>\n",
       "<style scoped>\n",
       "    .dataframe tbody tr th:only-of-type {\n",
       "        vertical-align: middle;\n",
       "    }\n",
       "\n",
       "    .dataframe tbody tr th {\n",
       "        vertical-align: top;\n",
       "    }\n",
       "\n",
       "    .dataframe thead th {\n",
       "        text-align: right;\n",
       "    }\n",
       "</style>\n",
       "<table border=\"1\" class=\"dataframe\">\n",
       "  <thead>\n",
       "    <tr style=\"text-align: right;\">\n",
       "      <th></th>\n",
       "      <th>Temperature(K)</th>\n",
       "      <th>Pressure(ATM)</th>\n",
       "      <th>CompressibilityFactor(Z)</th>\n",
       "    </tr>\n",
       "  </thead>\n",
       "  <tbody>\n",
       "    <tr>\n",
       "      <th>0</th>\n",
       "      <td>303.230</td>\n",
       "      <td>23.434</td>\n",
       "      <td>0.725550</td>\n",
       "    </tr>\n",
       "    <tr>\n",
       "      <th>1</th>\n",
       "      <td>313.345</td>\n",
       "      <td>26.435</td>\n",
       "      <td>0.752416</td>\n",
       "    </tr>\n",
       "    <tr>\n",
       "      <th>2</th>\n",
       "      <td>323.345</td>\n",
       "      <td>29.344</td>\n",
       "      <td>0.778906</td>\n",
       "    </tr>\n",
       "    <tr>\n",
       "      <th>3</th>\n",
       "      <td>383.345</td>\n",
       "      <td>25.876</td>\n",
       "      <td>0.912745</td>\n",
       "    </tr>\n",
       "    <tr>\n",
       "      <th>4</th>\n",
       "      <td>393.678</td>\n",
       "      <td>28.344</td>\n",
       "      <td>0.939472</td>\n",
       "    </tr>\n",
       "    <tr>\n",
       "      <th>5</th>\n",
       "      <td>363.678</td>\n",
       "      <td>27.843</td>\n",
       "      <td>0.869871</td>\n",
       "    </tr>\n",
       "    <tr>\n",
       "      <th>6</th>\n",
       "      <td>373.789</td>\n",
       "      <td>26.567</td>\n",
       "      <td>0.891595</td>\n",
       "    </tr>\n",
       "    <tr>\n",
       "      <th>7</th>\n",
       "      <td>273.100</td>\n",
       "      <td>24.675</td>\n",
       "      <td>0.806677</td>\n",
       "    </tr>\n",
       "    <tr>\n",
       "      <th>8</th>\n",
       "      <td>313.100</td>\n",
       "      <td>24.675</td>\n",
       "      <td>0.888395</td>\n",
       "    </tr>\n",
       "  </tbody>\n",
       "</table>\n",
       "</div>"
      ],
      "text/plain": [
       "   Temperature(K)  Pressure(ATM)  CompressibilityFactor(Z)\n",
       "0         303.230         23.434                  0.725550\n",
       "1         313.345         26.435                  0.752416\n",
       "2         323.345         29.344                  0.778906\n",
       "3         383.345         25.876                  0.912745\n",
       "4         393.678         28.344                  0.939472\n",
       "5         363.678         27.843                  0.869871\n",
       "6         373.789         26.567                  0.891595\n",
       "7         273.100         24.675                  0.806677\n",
       "8         313.100         24.675                  0.888395"
      ]
     },
     "execution_count": 29,
     "metadata": {},
     "output_type": "execute_result"
    }
   ],
   "source": [
    "dataTrain"
   ]
  },
  {
   "cell_type": "markdown",
   "metadata": {},
   "source": [
    "### The Test Set:"
   ]
  },
  {
   "cell_type": "code",
   "execution_count": 30,
   "metadata": {
    "scrolled": true
   },
   "outputs": [
    {
     "data": {
      "text/html": [
       "<div>\n",
       "<style scoped>\n",
       "    .dataframe tbody tr th:only-of-type {\n",
       "        vertical-align: middle;\n",
       "    }\n",
       "\n",
       "    .dataframe tbody tr th {\n",
       "        vertical-align: top;\n",
       "    }\n",
       "\n",
       "    .dataframe thead th {\n",
       "        text-align: right;\n",
       "    }\n",
       "</style>\n",
       "<table border=\"1\" class=\"dataframe\">\n",
       "  <thead>\n",
       "    <tr style=\"text-align: right;\">\n",
       "      <th></th>\n",
       "      <th>Temperature(K)</th>\n",
       "      <th>Pressure(ATM)</th>\n",
       "      <th>CompressibilityFactor(Z)</th>\n",
       "    </tr>\n",
       "  </thead>\n",
       "  <tbody>\n",
       "    <tr>\n",
       "      <th>0</th>\n",
       "      <td>333.123</td>\n",
       "      <td>27.343</td>\n",
       "      <td>0.798995</td>\n",
       "    </tr>\n",
       "    <tr>\n",
       "      <th>1</th>\n",
       "      <td>343.670</td>\n",
       "      <td>25.343</td>\n",
       "      <td>0.820853</td>\n",
       "    </tr>\n",
       "    <tr>\n",
       "      <th>2</th>\n",
       "      <td>353.340</td>\n",
       "      <td>29.343</td>\n",
       "      <td>0.847894</td>\n",
       "    </tr>\n",
       "    <tr>\n",
       "      <th>3</th>\n",
       "      <td>373.789</td>\n",
       "      <td>26.567</td>\n",
       "      <td>0.891595</td>\n",
       "    </tr>\n",
       "  </tbody>\n",
       "</table>\n",
       "</div>"
      ],
      "text/plain": [
       "   Temperature(K)  Pressure(ATM)  CompressibilityFactor(Z)\n",
       "0         333.123         27.343                  0.798995\n",
       "1         343.670         25.343                  0.820853\n",
       "2         353.340         29.343                  0.847894\n",
       "3         373.789         26.567                  0.891595"
      ]
     },
     "execution_count": 30,
     "metadata": {},
     "output_type": "execute_result"
    }
   ],
   "source": [
    "dataTest"
   ]
  },
  {
   "cell_type": "markdown",
   "metadata": {},
   "source": [
    "### Defining the Train & Test Set"
   ]
  },
  {
   "cell_type": "code",
   "execution_count": 31,
   "metadata": {
    "scrolled": true
   },
   "outputs": [
    {
     "name": "stdout",
     "output_type": "stream",
     "text": [
      "0    0.798995\n",
      "1    0.820853\n",
      "2    0.847894\n",
      "3    0.891595\n",
      "Name: CompressibilityFactor(Z), dtype: float64\n"
     ]
    }
   ],
   "source": [
    "x_train = dataTrain[['Temperature(K)', 'Pressure(ATM)']]#.reshape(-1,2)\n",
    "#x_train = x_train_df.values\n",
    "#x_train = x_train.reshape(-1,2)\n",
    "y_train = dataTrain['CompressibilityFactor(Z)']\n",
    "#y_train = y_train_df.values\n",
    "x_test = dataTest[['Temperature(K)', 'Pressure(ATM)']]#.reshape(-1,2)\n",
    "y_test = dataTest['CompressibilityFactor(Z)']\n",
    "print(x_train[:,:2])\n",
    "#plt.plot(y_train, y_train)\n",
    "#plt.show()"
   ]
  },
  {
   "cell_type": "markdown",
   "metadata": {
    "collapsed": true
   },
   "source": [
    "### Defining and Training The Model"
   ]
  },
  {
   "cell_type": "code",
   "execution_count": 35,
   "metadata": {
    "scrolled": true
   },
   "outputs": [
    {
     "ename": "TypeError",
     "evalue": "unhashable type: 'slice'",
     "output_type": "error",
     "traceback": [
      "\u001b[1;31m---------------------------------------------------------------------------\u001b[0m",
      "\u001b[1;31mTypeError\u001b[0m                                 Traceback (most recent call last)",
      "\u001b[1;32m<ipython-input-35-578b0c8f7a03>\u001b[0m in \u001b[0;36m<module>\u001b[1;34m()\u001b[0m\n\u001b[0;32m      1\u001b[0m \u001b[0mclf_linear\u001b[0m \u001b[1;33m=\u001b[0m \u001b[0mDecisionTreeClassifier\u001b[0m\u001b[1;33m(\u001b[0m\u001b[1;33m)\u001b[0m\u001b[1;33m\u001b[0m\u001b[0m\n\u001b[1;32m----> 2\u001b[1;33m \u001b[0mmodel\u001b[0m \u001b[1;33m=\u001b[0m \u001b[0mclf_linear\u001b[0m\u001b[1;33m.\u001b[0m\u001b[0mfit\u001b[0m\u001b[1;33m(\u001b[0m\u001b[0mx_train\u001b[0m\u001b[1;33m[\u001b[0m\u001b[1;33m:\u001b[0m\u001b[1;33m,\u001b[0m \u001b[1;36m0\u001b[0m\u001b[1;33m]\u001b[0m\u001b[1;33m,\u001b[0m \u001b[0my_train\u001b[0m\u001b[1;33m)\u001b[0m\u001b[1;33m\u001b[0m\u001b[0m\n\u001b[0m",
      "\u001b[1;32m~\\Anaconda3\\envs\\workshop\\lib\\site-packages\\pandas\\core\\frame.py\u001b[0m in \u001b[0;36m__getitem__\u001b[1;34m(self, key)\u001b[0m\n\u001b[0;32m   2137\u001b[0m             \u001b[1;32mreturn\u001b[0m \u001b[0mself\u001b[0m\u001b[1;33m.\u001b[0m\u001b[0m_getitem_multilevel\u001b[0m\u001b[1;33m(\u001b[0m\u001b[0mkey\u001b[0m\u001b[1;33m)\u001b[0m\u001b[1;33m\u001b[0m\u001b[0m\n\u001b[0;32m   2138\u001b[0m         \u001b[1;32melse\u001b[0m\u001b[1;33m:\u001b[0m\u001b[1;33m\u001b[0m\u001b[0m\n\u001b[1;32m-> 2139\u001b[1;33m             \u001b[1;32mreturn\u001b[0m \u001b[0mself\u001b[0m\u001b[1;33m.\u001b[0m\u001b[0m_getitem_column\u001b[0m\u001b[1;33m(\u001b[0m\u001b[0mkey\u001b[0m\u001b[1;33m)\u001b[0m\u001b[1;33m\u001b[0m\u001b[0m\n\u001b[0m\u001b[0;32m   2140\u001b[0m \u001b[1;33m\u001b[0m\u001b[0m\n\u001b[0;32m   2141\u001b[0m     \u001b[1;32mdef\u001b[0m \u001b[0m_getitem_column\u001b[0m\u001b[1;33m(\u001b[0m\u001b[0mself\u001b[0m\u001b[1;33m,\u001b[0m \u001b[0mkey\u001b[0m\u001b[1;33m)\u001b[0m\u001b[1;33m:\u001b[0m\u001b[1;33m\u001b[0m\u001b[0m\n",
      "\u001b[1;32m~\\Anaconda3\\envs\\workshop\\lib\\site-packages\\pandas\\core\\frame.py\u001b[0m in \u001b[0;36m_getitem_column\u001b[1;34m(self, key)\u001b[0m\n\u001b[0;32m   2144\u001b[0m         \u001b[1;31m# get column\u001b[0m\u001b[1;33m\u001b[0m\u001b[1;33m\u001b[0m\u001b[0m\n\u001b[0;32m   2145\u001b[0m         \u001b[1;32mif\u001b[0m \u001b[0mself\u001b[0m\u001b[1;33m.\u001b[0m\u001b[0mcolumns\u001b[0m\u001b[1;33m.\u001b[0m\u001b[0mis_unique\u001b[0m\u001b[1;33m:\u001b[0m\u001b[1;33m\u001b[0m\u001b[0m\n\u001b[1;32m-> 2146\u001b[1;33m             \u001b[1;32mreturn\u001b[0m \u001b[0mself\u001b[0m\u001b[1;33m.\u001b[0m\u001b[0m_get_item_cache\u001b[0m\u001b[1;33m(\u001b[0m\u001b[0mkey\u001b[0m\u001b[1;33m)\u001b[0m\u001b[1;33m\u001b[0m\u001b[0m\n\u001b[0m\u001b[0;32m   2147\u001b[0m \u001b[1;33m\u001b[0m\u001b[0m\n\u001b[0;32m   2148\u001b[0m         \u001b[1;31m# duplicate columns & possible reduce dimensionality\u001b[0m\u001b[1;33m\u001b[0m\u001b[1;33m\u001b[0m\u001b[0m\n",
      "\u001b[1;32m~\\Anaconda3\\envs\\workshop\\lib\\site-packages\\pandas\\core\\generic.py\u001b[0m in \u001b[0;36m_get_item_cache\u001b[1;34m(self, item)\u001b[0m\n\u001b[0;32m   1838\u001b[0m         \u001b[1;34m\"\"\"Return the cached item, item represents a label indexer.\"\"\"\u001b[0m\u001b[1;33m\u001b[0m\u001b[0m\n\u001b[0;32m   1839\u001b[0m         \u001b[0mcache\u001b[0m \u001b[1;33m=\u001b[0m \u001b[0mself\u001b[0m\u001b[1;33m.\u001b[0m\u001b[0m_item_cache\u001b[0m\u001b[1;33m\u001b[0m\u001b[0m\n\u001b[1;32m-> 1840\u001b[1;33m         \u001b[0mres\u001b[0m \u001b[1;33m=\u001b[0m \u001b[0mcache\u001b[0m\u001b[1;33m.\u001b[0m\u001b[0mget\u001b[0m\u001b[1;33m(\u001b[0m\u001b[0mitem\u001b[0m\u001b[1;33m)\u001b[0m\u001b[1;33m\u001b[0m\u001b[0m\n\u001b[0m\u001b[0;32m   1841\u001b[0m         \u001b[1;32mif\u001b[0m \u001b[0mres\u001b[0m \u001b[1;32mis\u001b[0m \u001b[1;32mNone\u001b[0m\u001b[1;33m:\u001b[0m\u001b[1;33m\u001b[0m\u001b[0m\n\u001b[0;32m   1842\u001b[0m             \u001b[0mvalues\u001b[0m \u001b[1;33m=\u001b[0m \u001b[0mself\u001b[0m\u001b[1;33m.\u001b[0m\u001b[0m_data\u001b[0m\u001b[1;33m.\u001b[0m\u001b[0mget\u001b[0m\u001b[1;33m(\u001b[0m\u001b[0mitem\u001b[0m\u001b[1;33m)\u001b[0m\u001b[1;33m\u001b[0m\u001b[0m\n",
      "\u001b[1;31mTypeError\u001b[0m: unhashable type: 'slice'"
     ]
    }
   ],
   "source": [
    "clf_linear = linear_model.LinearRegression()\n",
    "model = clf_linear.fit(x_train, y_train)"
   ]
  },
  {
   "cell_type": "markdown",
   "metadata": {
    "collapsed": true
   },
   "source": [
    "### Predicting Values for the Test Set"
   ]
  },
  {
   "cell_type": "code",
   "execution_count": 23,
   "metadata": {
    "scrolled": true
   },
   "outputs": [
    {
     "name": "stdout",
     "output_type": "stream",
     "text": [
      "[ 0.8268747   0.85623869  0.84524919  0.8950218 ]\n"
     ]
    }
   ],
   "source": [
    "print (model.predict(x_test))"
   ]
  },
  {
   "cell_type": "markdown",
   "metadata": {},
   "source": [
    "# Section 2.3\n",
    "# Support Vector Machines"
   ]
  },
  {
   "cell_type": "markdown",
   "metadata": {},
   "source": [
    "Reference to the SVM Algorithm: https://www.youtube.com/watch?v=1NxnPkZM9bc"
   ]
  },
  {
   "cell_type": "markdown",
   "metadata": {},
   "source": [
    "## Section 2.3.1\n",
    "## The Iris Dataset:"
   ]
  },
  {
   "cell_type": "code",
   "execution_count": 36,
   "metadata": {
    "scrolled": true
   },
   "outputs": [
    {
     "data": {
      "image/png": "[encoded data removed]",
      "text/plain": [
       "<matplotlib.figure.Figure at 0x158f79fb438>"
      ]
     },
     "metadata": {},
     "output_type": "display_data"
    },
    {
     "data": {
      "image/png": "[encoded data removed]",
      "text/plain": [
       "<matplotlib.figure.Figure at 0x158f7bfafd0>"
      ]
     },
     "metadata": {},
     "output_type": "display_data"
    }
   ],
   "source": [
    "\n",
    "# Code source: Gaël Varoquaux\n",
    "# Modified for documentation by Jaques Grobler\n",
    "# License: BSD 3 clause\n",
    "\n",
    "import matplotlib.pyplot as plt\n",
    "from mpl_toolkits.mplot3d import Axes3D\n",
    "from sklearn import datasets\n",
    "from sklearn.decomposition import PCA\n",
    "\n",
    "# import some data to play with\n",
    "iris = datasets.load_iris()\n",
    "X = iris.data[:, :2]  # we only take the first two features.\n",
    "y = iris.target\n",
    "\n",
    "x_min, x_max = X[:, 0].min() - .5, X[:, 0].max() + .5\n",
    "y_min, y_max = X[:, 1].min() - .5, X[:, 1].max() + .5\n",
    "\n",
    "plt.figure(2, figsize=(8, 6))\n",
    "plt.clf()\n",
    "\n",
    "# Plot the training points\n",
    "plt.scatter(X[:, 0], X[:, 1], c=y, cmap=plt.cm.Set1,\n",
    "            edgecolor='k')\n",
    "plt.xlabel('Sepal length')\n",
    "plt.ylabel('Sepal width')\n",
    "\n",
    "plt.xlim(x_min, x_max)\n",
    "plt.ylim(y_min, y_max)\n",
    "plt.xticks(())\n",
    "plt.yticks(())\n",
    "\n",
    "# To getter a better understanding of interaction of the dimensions\n",
    "# plot the first three PCA dimensions\n",
    "fig = plt.figure(1, figsize=(8, 6))\n",
    "ax = Axes3D(fig, elev=-150, azim=110)\n",
    "X_reduced = PCA(n_components=3).fit_transform(iris.data)\n",
    "ax.scatter(X_reduced[:, 0], X_reduced[:, 1], X_reduced[:, 2], c=y,\n",
    "           cmap=plt.cm.Set1, edgecolor='k', s=40)\n",
    "ax.set_title(\"First three PCA directions\")\n",
    "ax.set_xlabel(\"1st eigenvector\")\n",
    "ax.w_xaxis.set_ticklabels([])\n",
    "ax.set_ylabel(\"2nd eigenvector\")\n",
    "ax.w_yaxis.set_ticklabels([])\n",
    "ax.set_zlabel(\"3rd eigenvector\")\n",
    "ax.w_zaxis.set_ticklabels([])\n",
    "\n",
    "plt.show()"
   ]
  },
  {
   "cell_type": "markdown",
   "metadata": {},
   "source": [
    "## Section 2.3.2\n",
    "## Effect of Different Kernels:"
   ]
  },
  {
   "cell_type": "code",
   "execution_count": 37,
   "metadata": {
    "scrolled": true
   },
   "outputs": [
    {
     "data": {
      "image/png": "[encoded data removed]",
      "text/plain": [
       "<matplotlib.figure.Figure at 0x158f58279b0>"
      ]
     },
     "metadata": {},
     "output_type": "display_data"
    },
    {
     "data": {
      "image/png": "[encoded data removed]",
      "text/plain": [
       "<matplotlib.figure.Figure at 0x158f8396c88>"
      ]
     },
     "metadata": {},
     "output_type": "display_data"
    },
    {
     "data": {
      "image/png": "[encoded data removed]",
      "text/plain": [
       "<matplotlib.figure.Figure at 0x158f8396c50>"
      ]
     },
     "metadata": {},
     "output_type": "display_data"
    }
   ],
   "source": [
    "import numpy as np\n",
    "import matplotlib.pyplot as plt\n",
    "from sklearn import datasets, svm\n",
    "\n",
    "iris = datasets.load_iris()\n",
    "X = iris.data\n",
    "y = iris.target\n",
    "\n",
    "X = X[y != 0, :2]\n",
    "y = y[y != 0]\n",
    "\n",
    "n_sample = len(X)\n",
    "\n",
    "np.random.seed(0)\n",
    "order = np.random.permutation(n_sample)\n",
    "X = X[order]\n",
    "y = y[order].astype(np.float)\n",
    "\n",
    "X_train = X[:int(.9 * n_sample)]\n",
    "y_train = y[:int(.9 * n_sample)]\n",
    "X_test = X[int(.9 * n_sample):]\n",
    "y_test = y[int(.9 * n_sample):]\n",
    "\n",
    "# fit the model\n",
    "for fig_num, kernel in enumerate(('linear', 'rbf', 'poly')):\n",
    "    clf = svm.SVC(kernel=kernel, gamma=10)\n",
    "    clf.fit(X_train, y_train)\n",
    "\n",
    "    plt.figure(fig_num)\n",
    "    plt.clf()\n",
    "    plt.scatter(X[:, 0], X[:, 1], c=y, zorder=10, cmap=plt.cm.Paired,\n",
    "                edgecolor='k', s=20)\n",
    "\n",
    "    # Circle out the test data\n",
    "    plt.scatter(X_test[:, 0], X_test[:, 1], s=80, facecolors='none',\n",
    "                zorder=10, edgecolor='k')\n",
    "\n",
    "    plt.axis('tight')\n",
    "    x_min = X[:, 0].min()\n",
    "    x_max = X[:, 0].max()\n",
    "    y_min = X[:, 1].min()\n",
    "    y_max = X[:, 1].max()\n",
    "\n",
    "    XX, YY = np.mgrid[x_min:x_max:200j, y_min:y_max:200j]\n",
    "    Z = clf.decision_function(np.c_[XX.ravel(), YY.ravel()])\n",
    "\n",
    "    # Put the result into a color plot\n",
    "    Z = Z.reshape(XX.shape)\n",
    "    plt.pcolormesh(XX, YY, Z > 0, cmap=plt.cm.Paired)\n",
    "    plt.contour(XX, YY, Z, colors=['k', 'k', 'k'],\n",
    "                linestyles=['--', '-', '--'], levels=[-.5, 0, .5])\n",
    "\n",
    "    plt.title(kernel)\n",
    "plt.show()"
   ]
  },
  {
   "cell_type": "markdown",
   "metadata": {},
   "source": [
    "## Section 2.3.3\n",
    "## Support Vector Machine Classification"
   ]
  },
  {
   "cell_type": "markdown",
   "metadata": {},
   "source": [
    "### Importing necessary Functions"
   ]
  },
  {
   "cell_type": "code",
   "execution_count": 52,
   "metadata": {
    "collapsed": true,
    "scrolled": true
   },
   "outputs": [],
   "source": [
    "from sklearn import datasets\n",
    "from sklearn import cross_validation\n",
    "from sklearn import svm\n",
    "from sklearn.tree import DecisionTreeClassifier"
   ]
  },
  {
   "cell_type": "markdown",
   "metadata": {},
   "source": [
    "### Loading the Iris Dataset"
   ]
  },
  {
   "cell_type": "code",
   "execution_count": 53,
   "metadata": {
    "collapsed": true,
    "scrolled": true
   },
   "outputs": [],
   "source": [
    "# import some data to play with\n",
    "iris = datasets.load_iris()\n",
    "X = iris.data[:, :]  # we only take the first two features.\n",
    "y = iris.target"
   ]
  },
  {
   "cell_type": "markdown",
   "metadata": {},
   "source": [
    "### Lets take a look at the Data"
   ]
  },
  {
   "cell_type": "code",
   "execution_count": 54,
   "metadata": {
    "scrolled": true
   },
   "outputs": [
    {
     "name": "stdout",
     "output_type": "stream",
     "text": [
      "[[ 5.1  3.5  1.4  0.2]\n",
      " [ 4.9  3.   1.4  0.2]\n",
      " [ 4.7  3.2  1.3  0.2]\n",
      " [ 4.6  3.1  1.5  0.2]\n",
      " [ 5.   3.6  1.4  0.2]\n",
      " [ 5.4  3.9  1.7  0.4]\n",
      " [ 4.6  3.4  1.4  0.3]\n",
      " [ 5.   3.4  1.5  0.2]\n",
      " [ 4.4  2.9  1.4  0.2]\n",
      " [ 4.9  3.1  1.5  0.1]\n",
      " [ 5.4  3.7  1.5  0.2]\n",
      " [ 4.8  3.4  1.6  0.2]\n",
      " [ 4.8  3.   1.4  0.1]\n",
      " [ 4.3  3.   1.1  0.1]\n",
      " [ 5.8  4.   1.2  0.2]\n",
      " [ 5.7  4.4  1.5  0.4]\n",
      " [ 5.4  3.9  1.3  0.4]\n",
      " [ 5.1  3.5  1.4  0.3]\n",
      " [ 5.7  3.8  1.7  0.3]\n",
      " [ 5.1  3.8  1.5  0.3]\n",
      " [ 5.4  3.4  1.7  0.2]\n",
      " [ 5.1  3.7  1.5  0.4]\n",
      " [ 4.6  3.6  1.   0.2]\n",
      " [ 5.1  3.3  1.7  0.5]\n",
      " [ 4.8  3.4  1.9  0.2]\n",
      " [ 5.   3.   1.6  0.2]\n",
      " [ 5.   3.4  1.6  0.4]\n",
      " [ 5.2  3.5  1.5  0.2]\n",
      " [ 5.2  3.4  1.4  0.2]\n",
      " [ 4.7  3.2  1.6  0.2]\n",
      " [ 4.8  3.1  1.6  0.2]\n",
      " [ 5.4  3.4  1.5  0.4]\n",
      " [ 5.2  4.1  1.5  0.1]\n",
      " [ 5.5  4.2  1.4  0.2]\n",
      " [ 4.9  3.1  1.5  0.1]\n",
      " [ 5.   3.2  1.2  0.2]\n",
      " [ 5.5  3.5  1.3  0.2]\n",
      " [ 4.9  3.1  1.5  0.1]\n",
      " [ 4.4  3.   1.3  0.2]\n",
      " [ 5.1  3.4  1.5  0.2]\n",
      " [ 5.   3.5  1.3  0.3]\n",
      " [ 4.5  2.3  1.3  0.3]\n",
      " [ 4.4  3.2  1.3  0.2]\n",
      " [ 5.   3.5  1.6  0.6]\n",
      " [ 5.1  3.8  1.9  0.4]\n",
      " [ 4.8  3.   1.4  0.3]\n",
      " [ 5.1  3.8  1.6  0.2]\n",
      " [ 4.6  3.2  1.4  0.2]\n",
      " [ 5.3  3.7  1.5  0.2]\n",
      " [ 5.   3.3  1.4  0.2]\n",
      " [ 7.   3.2  4.7  1.4]\n",
      " [ 6.4  3.2  4.5  1.5]\n",
      " [ 6.9  3.1  4.9  1.5]\n",
      " [ 5.5  2.3  4.   1.3]\n",
      " [ 6.5  2.8  4.6  1.5]\n",
      " [ 5.7  2.8  4.5  1.3]\n",
      " [ 6.3  3.3  4.7  1.6]\n",
      " [ 4.9  2.4  3.3  1. ]\n",
      " [ 6.6  2.9  4.6  1.3]\n",
      " [ 5.2  2.7  3.9  1.4]\n",
      " [ 5.   2.   3.5  1. ]\n",
      " [ 5.9  3.   4.2  1.5]\n",
      " [ 6.   2.2  4.   1. ]\n",
      " [ 6.1  2.9  4.7  1.4]\n",
      " [ 5.6  2.9  3.6  1.3]\n",
      " [ 6.7  3.1  4.4  1.4]\n",
      " [ 5.6  3.   4.5  1.5]\n",
      " [ 5.8  2.7  4.1  1. ]\n",
      " [ 6.2  2.2  4.5  1.5]\n",
      " [ 5.6  2.5  3.9  1.1]\n",
      " [ 5.9  3.2  4.8  1.8]\n",
      " [ 6.1  2.8  4.   1.3]\n",
      " [ 6.3  2.5  4.9  1.5]\n",
      " [ 6.1  2.8  4.7  1.2]\n",
      " [ 6.4  2.9  4.3  1.3]\n",
      " [ 6.6  3.   4.4  1.4]\n",
      " [ 6.8  2.8  4.8  1.4]\n",
      " [ 6.7  3.   5.   1.7]\n",
      " [ 6.   2.9  4.5  1.5]\n",
      " [ 5.7  2.6  3.5  1. ]\n",
      " [ 5.5  2.4  3.8  1.1]\n",
      " [ 5.5  2.4  3.7  1. ]\n",
      " [ 5.8  2.7  3.9  1.2]\n",
      " [ 6.   2.7  5.1  1.6]\n",
      " [ 5.4  3.   4.5  1.5]\n",
      " [ 6.   3.4  4.5  1.6]\n",
      " [ 6.7  3.1  4.7  1.5]\n",
      " [ 6.3  2.3  4.4  1.3]\n",
      " [ 5.6  3.   4.1  1.3]\n",
      " [ 5.5  2.5  4.   1.3]\n",
      " [ 5.5  2.6  4.4  1.2]\n",
      " [ 6.1  3.   4.6  1.4]\n",
      " [ 5.8  2.6  4.   1.2]\n",
      " [ 5.   2.3  3.3  1. ]\n",
      " [ 5.6  2.7  4.2  1.3]\n",
      " [ 5.7  3.   4.2  1.2]\n",
      " [ 5.7  2.9  4.2  1.3]\n",
      " [ 6.2  2.9  4.3  1.3]\n",
      " [ 5.1  2.5  3.   1.1]\n",
      " [ 5.7  2.8  4.1  1.3]\n",
      " [ 6.3  3.3  6.   2.5]\n",
      " [ 5.8  2.7  5.1  1.9]\n",
      " [ 7.1  3.   5.9  2.1]\n",
      " [ 6.3  2.9  5.6  1.8]\n",
      " [ 6.5  3.   5.8  2.2]\n",
      " [ 7.6  3.   6.6  2.1]\n",
      " [ 4.9  2.5  4.5  1.7]\n",
      " [ 7.3  2.9  6.3  1.8]\n",
      " [ 6.7  2.5  5.8  1.8]\n",
      " [ 7.2  3.6  6.1  2.5]\n",
      " [ 6.5  3.2  5.1  2. ]\n",
      " [ 6.4  2.7  5.3  1.9]\n",
      " [ 6.8  3.   5.5  2.1]\n",
      " [ 5.7  2.5  5.   2. ]\n",
      " [ 5.8  2.8  5.1  2.4]\n",
      " [ 6.4  3.2  5.3  2.3]\n",
      " [ 6.5  3.   5.5  1.8]\n",
      " [ 7.7  3.8  6.7  2.2]\n",
      " [ 7.7  2.6  6.9  2.3]\n",
      " [ 6.   2.2  5.   1.5]\n",
      " [ 6.9  3.2  5.7  2.3]\n",
      " [ 5.6  2.8  4.9  2. ]\n",
      " [ 7.7  2.8  6.7  2. ]\n",
      " [ 6.3  2.7  4.9  1.8]\n",
      " [ 6.7  3.3  5.7  2.1]\n",
      " [ 7.2  3.2  6.   1.8]\n",
      " [ 6.2  2.8  4.8  1.8]\n",
      " [ 6.1  3.   4.9  1.8]\n",
      " [ 6.4  2.8  5.6  2.1]\n",
      " [ 7.2  3.   5.8  1.6]\n",
      " [ 7.4  2.8  6.1  1.9]\n",
      " [ 7.9  3.8  6.4  2. ]\n",
      " [ 6.4  2.8  5.6  2.2]\n",
      " [ 6.3  2.8  5.1  1.5]\n",
      " [ 6.1  2.6  5.6  1.4]\n",
      " [ 7.7  3.   6.1  2.3]\n",
      " [ 6.3  3.4  5.6  2.4]\n",
      " [ 6.4  3.1  5.5  1.8]\n",
      " [ 6.   3.   4.8  1.8]\n",
      " [ 6.9  3.1  5.4  2.1]\n",
      " [ 6.7  3.1  5.6  2.4]\n",
      " [ 6.9  3.1  5.1  2.3]\n",
      " [ 5.8  2.7  5.1  1.9]\n",
      " [ 6.8  3.2  5.9  2.3]\n",
      " [ 6.7  3.3  5.7  2.5]\n",
      " [ 6.7  3.   5.2  2.3]\n",
      " [ 6.3  2.5  5.   1.9]\n",
      " [ 6.5  3.   5.2  2. ]\n",
      " [ 6.2  3.4  5.4  2.3]\n",
      " [ 5.9  3.   5.1  1.8]]\n",
      "[0 0 0 0 0 0 0 0 0 0 0 0 0 0 0 0 0 0 0 0 0 0 0 0 0 0 0 0 0 0 0 0 0 0 0 0 0\n",
      " 0 0 0 0 0 0 0 0 0 0 0 0 0 1 1 1 1 1 1 1 1 1 1 1 1 1 1 1 1 1 1 1 1 1 1 1 1\n",
      " 1 1 1 1 1 1 1 1 1 1 1 1 1 1 1 1 1 1 1 1 1 1 1 1 1 1 2 2 2 2 2 2 2 2 2 2 2\n",
      " 2 2 2 2 2 2 2 2 2 2 2 2 2 2 2 2 2 2 2 2 2 2 2 2 2 2 2 2 2 2 2 2 2 2 2 2 2\n",
      " 2 2]\n"
     ]
    }
   ],
   "source": [
    "print(X)\n",
    "print(y)"
   ]
  },
  {
   "cell_type": "markdown",
   "metadata": {},
   "source": [
    "### Splitting the Data into Train and Test Set"
   ]
  },
  {
   "cell_type": "code",
   "execution_count": 55,
   "metadata": {
    "collapsed": true,
    "scrolled": true
   },
   "outputs": [],
   "source": [
    "X_train, X_test, y_train, y_test = cross_validation.train_test_split(X, y, test_size=0.3)"
   ]
  },
  {
   "cell_type": "markdown",
   "metadata": {},
   "source": [
    "### Defining the Classifier"
   ]
  },
  {
   "cell_type": "code",
   "execution_count": 56,
   "metadata": {
    "collapsed": true,
    "scrolled": true
   },
   "outputs": [],
   "source": [
    "clf = svm.SVC(kernel = 'poly')\n",
    "clf2 = DecisionTreeClassifier()"
   ]
  },
  {
   "cell_type": "markdown",
   "metadata": {},
   "source": [
    "### Training and Testing the Output of the Network:"
   ]
  },
  {
   "cell_type": "code",
   "execution_count": 59,
   "metadata": {
    "scrolled": true
   },
   "outputs": [
    {
     "name": "stdout",
     "output_type": "stream",
     "text": [
      "The accuracy of the network is: 0.888888888889\n",
      "Prediction for the Test set is:\n",
      "[1 1 2 0 1 1 1 2 2 2 1 2 0 2 2 1 0 2 0 0 2 1 2 2 2 1 1 2 2 2 1 1 0 0 1 0 0\n",
      " 0 0 1 2 2 1 2 2]\n",
      "Lets Compare it to the original target test set:\n",
      "[1 1 2 0 1 1 1 1 1 2 1 2 0 2 2 1 0 2 0 0 2 1 2 2 2 1 1 2 1 2 1 2 0 0 1 0 0\n",
      " 0 0 1 2 2 2 2 2]\n"
     ]
    }
   ],
   "source": [
    "clf2.fit(X_train, y_train)\n",
    "\n",
    "accuracy= clf2.score(X_test, y_test)\n",
    "print(\"The accuracy of the network is:\", accuracy)\n",
    "print(\"Prediction for the Test set is:\")\n",
    "print( clf2.predict(X_test) )\n",
    "print(\"Lets Compare it to the original target test set:\")\n",
    "print(y_test)"
   ]
  },
  {
   "cell_type": "markdown",
   "metadata": {},
   "source": [
    "## Section 2.3.4\n",
    "## Support Vector Machine Regression:"
   ]
  },
  {
   "cell_type": "code",
   "execution_count": 60,
   "metadata": {
    "scrolled": true
   },
   "outputs": [
    {
     "name": "stdout",
     "output_type": "stream",
     "text": [
      "The accuracy of the network is: 0.696739623366\n",
      "Prediction for the Test set is:\n",
      "[-0.0204929   1.61661104  1.048255    0.90288835  1.49100305  0.97278298\n",
      "  1.62585612  0.98242128  1.75642441  0.38406668 -0.0972976   1.14896607\n",
      "  1.72318277 -0.00752492  0.24598515  1.90101936  1.07326292  1.6743113\n",
      "  0.90420528  1.49373402  1.13377703  1.47107572  2.12885215  1.07326292\n",
      "  0.01108733  0.03235055  1.59444655  1.59051977  0.77740067  0.05657552\n",
      "  1.19566132  1.18030145 -0.09455082  1.04902544  1.36932752  0.14593852\n",
      "  2.12495196 -0.04438248  2.0606861   0.82197322  1.15934782  1.2316389\n",
      "  0.24598515  0.19673422  1.12386405]\n",
      "Lets Compare it to the original target test set:\n",
      "[0 2 1 1 2 2 1 1 1 0 0 2 2 0 0 1 2 1 1 2 1 2 2 1 0 0 2 2 1 0 1 1 0 1 2 0 2\n",
      " 0 2 1 2 1 0 0 2]\n"
     ]
    }
   ],
   "source": [
    "from sklearn import datasets\n",
    "from sklearn import cross_validation\n",
    "from sklearn import svm\n",
    "\n",
    "# import some data to play with\n",
    "iris = datasets.load_iris()\n",
    "X = iris.data[:, :2]  # we only take the first two features.\n",
    "y = iris.target\n",
    "\n",
    "X_train, X_test, y_train, y_test = cross_validation.train_test_split(X, y, test_size=0.3)\n",
    "\n",
    "clf = svm.SVR(kernel = 'poly')\n",
    "\n",
    "clf.fit(X_train, y_train)\n",
    "\n",
    "accuracy= clf.score(X_test, y_test)\n",
    "print(\"The accuracy of the network is:\", accuracy)\n",
    "print(\"Prediction for the Test set is:\")\n",
    "print( clf.predict(X_test) )\n",
    "print(\"Lets Compare it to the original target test set:\")\n",
    "print(y_test)"
   ]
  },
  {
   "cell_type": "markdown",
   "metadata": {},
   "source": [
    "# Section 2.4\n",
    "# Using Different Classification Methods\n",
    "## Section 2.4.1\n",
    "## Linear Regression:"
   ]
  },
  {
   "cell_type": "code",
   "execution_count": 61,
   "metadata": {
    "scrolled": true
   },
   "outputs": [
    {
     "name": "stdout",
     "output_type": "stream",
     "text": [
      "The accuracy of the network is: 0.72706410869\n",
      "Prediction for the Test set is:\n",
      "[ 0.79609455 -0.16604053  0.36920576 -0.3209282   1.658762    0.0279296\n",
      " -0.03128126  1.0756773   1.2620658   0.20673647  1.01019307  1.22050077\n",
      "  2.0076198  -0.05520046  0.16517144  1.57942276  1.54164855  1.40688927\n",
      "  2.79343058  0.84772377  0.22059148  0.94470884 -0.18995974  0.02034797\n",
      "  2.66246211  1.06182229  1.22429159 -0.08670129  2.53149365  1.94840895\n",
      "  1.68647202  1.69653622  1.48622851  2.0655224   0.44475419  1.2620658\n",
      "  1.83129549  0.93085383  0.12739723 -0.05520046  1.63105198  1.70660041\n",
      "  0.16896225  1.8791339   1.86527889]\n",
      "Lets Compare it to the original target test set:\n",
      "[1 0 0 0 1 0 0 1 2 0 1 2 2 0 0 2 2 1 2 1 0 1 0 0 2 1 1 0 2 1 2 2 2 2 0 1 1\n",
      " 1 0 0 2 2 0 1 1]\n"
     ]
    }
   ],
   "source": [
    "from sklearn.linear_model import LinearRegression\n",
    "from sklearn import datasets\n",
    "from sklearn import cross_validation\n",
    "\n",
    "# import some data to play with\n",
    "iris = datasets.load_iris()\n",
    "X = iris.data[:, :2]  # we only take the first two features.\n",
    "y = iris.target\n",
    "\n",
    "X_train, X_test, y_train, y_test = cross_validation.train_test_split(X, y, test_size=0.3)\n",
    "\n",
    "clf = LinearRegression()\n",
    "\n",
    "clf.fit(X_train, y_train)\n",
    "\n",
    "accuracy= clf.score(X_test, y_test)\n",
    "print(\"The accuracy of the network is:\", accuracy)\n",
    "print(\"Prediction for the Test set is:\")\n",
    "print( clf.predict(X_test) )\n",
    "print(\"Lets Compare it to the original target test set:\")\n",
    "print(y_test)"
   ]
  },
  {
   "cell_type": "code",
   "execution_count": 62,
   "metadata": {
    "scrolled": true
   },
   "outputs": [
    {
     "ename": "NameError",
     "evalue": "name 'KNeighborsClassifier' is not defined",
     "output_type": "error",
     "traceback": [
      "\u001b[1;31m---------------------------------------------------------------------------\u001b[0m",
      "\u001b[1;31mNameError\u001b[0m                                 Traceback (most recent call last)",
      "\u001b[1;32m<ipython-input-62-610f2f0a148e>\u001b[0m in \u001b[0;36m<module>\u001b[1;34m()\u001b[0m\n\u001b[0;32m      1\u001b[0m classifiers = [\n\u001b[1;32m----> 2\u001b[1;33m     \u001b[0mKNeighborsClassifier\u001b[0m\u001b[1;33m(\u001b[0m\u001b[1;36m3\u001b[0m\u001b[1;33m)\u001b[0m\u001b[1;33m,\u001b[0m\u001b[1;33m\u001b[0m\u001b[0m\n\u001b[0m\u001b[0;32m      3\u001b[0m     \u001b[0mSVC\u001b[0m\u001b[1;33m(\u001b[0m\u001b[0mkernel\u001b[0m\u001b[1;33m=\u001b[0m\u001b[1;34m\"linear\"\u001b[0m\u001b[1;33m,\u001b[0m \u001b[0mC\u001b[0m\u001b[1;33m=\u001b[0m\u001b[1;36m0.025\u001b[0m\u001b[1;33m)\u001b[0m\u001b[1;33m,\u001b[0m\u001b[1;33m\u001b[0m\u001b[0m\n\u001b[0;32m      4\u001b[0m     \u001b[0mSVC\u001b[0m\u001b[1;33m(\u001b[0m\u001b[0mgamma\u001b[0m\u001b[1;33m=\u001b[0m\u001b[1;36m2\u001b[0m\u001b[1;33m,\u001b[0m \u001b[0mC\u001b[0m\u001b[1;33m=\u001b[0m\u001b[1;36m1\u001b[0m\u001b[1;33m)\u001b[0m\u001b[1;33m,\u001b[0m\u001b[1;33m\u001b[0m\u001b[0m\n\u001b[0;32m      5\u001b[0m     \u001b[0mGaussianProcessClassifier\u001b[0m\u001b[1;33m(\u001b[0m\u001b[1;36m1.0\u001b[0m \u001b[1;33m*\u001b[0m \u001b[0mRBF\u001b[0m\u001b[1;33m(\u001b[0m\u001b[1;36m1.0\u001b[0m\u001b[1;33m)\u001b[0m\u001b[1;33m)\u001b[0m\u001b[1;33m,\u001b[0m\u001b[1;33m\u001b[0m\u001b[0m\n",
      "\u001b[1;31mNameError\u001b[0m: name 'KNeighborsClassifier' is not defined"
     ]
    }
   ],
   "source": [
    "classifiers = [\n",
    "    KNeighborsClassifier(3),\n",
    "    SVC(kernel=\"linear\", C=0.025),\n",
    "    SVC(gamma=2, C=1),\n",
    "    GaussianProcessClassifier(1.0 * RBF(1.0)),\n",
    "    DecisionTreeClassifier(max_depth=5),\n",
    "    RandomForestClassifier(max_depth=5, n_estimators=10, max_features=1),\n",
    "    MLPClassifier(alpha=1),\n",
    "    AdaBoostClassifier(),\n",
    "    GaussianNB(),\n",
    "    QuadraticDiscriminantAnalysis()]"
   ]
  },
  {
   "cell_type": "markdown",
   "metadata": {},
   "source": [
    "## Section 2.4.2\n",
    "## Random Forest Classification:"
   ]
  },
  {
   "cell_type": "markdown",
   "metadata": {},
   "source": [
    "reference: Random Forest: https://www.youtube.com/watch?v=loNcrMjYh64\n"
   ]
  },
  {
   "cell_type": "markdown",
   "metadata": {},
   "source": [
    "reference: ensemble methods: http://scikit-learn.org/stable/modules/ensemble.html"
   ]
  },
  {
   "cell_type": "code",
   "execution_count": 63,
   "metadata": {
    "scrolled": true
   },
   "outputs": [
    {
     "name": "stdout",
     "output_type": "stream",
     "text": [
      "The accuracy of the network is: 0.711111111111\n",
      "Prediction for the Test set is:\n",
      "[0 0 2 2 2 2 2 1 2 1 0 2 2 0 2 1 2 2 2 1 0 2 1 1 2 2 2 2 0 1 0 2 0 0 1 0 2\n",
      " 1 0 0 2 2 1 0 2]\n",
      "Lets Compare it to the original target test set:\n",
      "[0 0 1 2 1 1 2 1 2 1 0 2 1 0 1 1 2 1 2 1 0 1 2 0 2 2 2 2 0 1 0 2 0 0 1 0 1\n",
      " 1 0 1 1 1 1 0 2]\n"
     ]
    }
   ],
   "source": [
    "from sklearn.ensemble import RandomForestClassifier\n",
    "from sklearn import datasets\n",
    "from sklearn import cross_validation\n",
    "\n",
    "# import some data to play with\n",
    "iris = datasets.load_iris()\n",
    "X = iris.data[:, :2]  # we only take the first two features.\n",
    "y = iris.target\n",
    "\n",
    "X_train, X_test, y_train, y_test = cross_validation.train_test_split(X, y, test_size=0.3)\n",
    "\n",
    "clf = RandomForestClassifier(max_depth=5, n_estimators=10, max_features=1)\n",
    "clf.fit(X_train, y_train)\n",
    "\n",
    "accuracy= clf.score(X_test, y_test)\n",
    "print(\"The accuracy of the network is:\", accuracy)\n",
    "print(\"Prediction for the Test set is:\")\n",
    "print( clf.predict(X_test) )\n",
    "print(\"Lets Compare it to the original target test set:\")\n",
    "print(y_test)"
   ]
  },
  {
   "cell_type": "markdown",
   "metadata": {},
   "source": [
    "Random forest Parameters:\n",
    "\n",
    "The main parameters to adjust when using these methods is n_estimators and max_features. The former is the number of trees in the forest. The larger the better, but also the longer it will take to compute. In addition, note that results will stop getting significantly better beyond a critical number of trees. The latter is the size of the random subsets of features to consider when splitting a node. The lower the greater the reduction of variance, but also the greater the increase in bias. Empirical good default values are max_features=n_features for regression problems, and max_features=sqrt(n_features) for classification tasks (where n_features is the number of features in the data). Good results are often achieved when setting max_depth=None in combination with min_samples_split=2 (i.e., when fully developing the trees). Bear in mind though that these values are usually not optimal, and might result in models that consume a lot of RAM. \n"
   ]
  },
  {
   "cell_type": "markdown",
   "metadata": {},
   "source": [
    "## Section 2.4.3\n",
    "## Ada Boost Classifier"
   ]
  },
  {
   "cell_type": "code",
   "execution_count": 64,
   "metadata": {
    "scrolled": true
   },
   "outputs": [
    {
     "name": "stdout",
     "output_type": "stream",
     "text": [
      "The accuracy of the network is: 0.622222222222\n",
      "Prediction for the Test set is:\n",
      "[1 1 1 1 0 0 1 1 0 0 1 0 1 2 1 0 2 1 1 0 0 1 1 1 0 1 2 2 1 1 1 1 1 2 1 1 1\n",
      " 1 1 2 1 0 1 2 2]\n",
      "Lets Compare it to the original target test set:\n",
      "[1 1 1 2 0 0 2 1 0 0 1 0 1 2 1 0 2 1 1 0 0 2 2 1 0 1 0 2 2 2 2 2 2 1 1 1 2\n",
      " 1 2 1 2 0 1 0 0]\n"
     ]
    }
   ],
   "source": [
    "from sklearn.ensemble import AdaBoostClassifier\n",
    "from sklearn import datasets\n",
    "from sklearn import cross_validation\n",
    "\n",
    "# import some data to play with\n",
    "iris = datasets.load_iris()\n",
    "X = iris.data[:, :2]  # we only take the first two features.\n",
    "y = iris.target\n",
    "\n",
    "X_train, X_test, y_train, y_test = cross_validation.train_test_split(X, y, test_size=0.3)\n",
    "\n",
    "clf = AdaBoostClassifier()\n",
    "clf.fit(X_train, y_train)\n",
    "\n",
    "accuracy= clf.score(X_test, y_test)\n",
    "print(\"The accuracy of the network is:\", accuracy)\n",
    "print(\"Prediction for the Test set is:\")\n",
    "print( clf.predict(X_test) )\n",
    "print(\"Lets Compare it to the original target test set:\")\n",
    "print(y_test)"
   ]
  },
  {
   "cell_type": "markdown",
   "metadata": {},
   "source": [
    "## 2.4.4\n",
    "## Mulit-Layer Perceptrons/ MLP / ANN (Artificial Neural Network)"
   ]
  },
  {
   "cell_type": "markdown",
   "metadata": {},
   "source": [
    "Reference: ANN: https://www.youtube.com/watch?v=LCzufhtIFnY"
   ]
  },
  {
   "cell_type": "markdown",
   "metadata": {},
   "source": [
    "Reference: Scikit-learn : http://scikit-learn.org/stable/modules/neural_networks_supervised.html#multi-layer-perceptron"
   ]
  },
  {
   "cell_type": "code",
   "execution_count": null,
   "metadata": {
    "collapsed": true,
    "scrolled": true
   },
   "outputs": [],
   "source": [
    "from sklearn.neural_network import MLPClassifier\n",
    "from sklearn import datasets\n",
    "from sklearn import cross_validation\n",
    "\n",
    "# import some data to play with\n",
    "iris = datasets.load_iris()\n",
    "X = iris.data[:, :2]  # we only take the first two features.\n",
    "y = iris.target\n",
    "\n",
    "X_train, X_test, y_train, y_test = cross_validation.train_test_split(X, y, test_size=0.3)\n",
    "\n",
    "#clf = MLPClassifier(alpha=1)\n",
    "\n",
    "clf = MLPClassifier(solver='lbfgs', alpha=1e-5, hidden_layer_sizes=(5, 2), random_state=1)\n",
    "\n",
    "clf.fit(X_train, y_train)\n",
    "\n",
    "accuracy= clf.score(X_test, y_test)\n",
    "print(\"The accuracy of the network is:\", accuracy)\n",
    "print(\"Prediction for the Test set is:\")\n",
    "print( clf.predict(X_test) )\n",
    "print(\"Lets Compare it to the original target test set:\")\n",
    "print(y_test)"
   ]
  },
  {
   "cell_type": "markdown",
   "metadata": {
    "collapsed": true
   },
   "source": [
    "# Section 2.5: Visiting an Example\n",
    "## Kth Nearest Network implementation using Pima-Indian Dataset"
   ]
  },
  {
   "cell_type": "markdown",
   "metadata": {},
   "source": [
    "Reference : Pima indian dataset:  https://github.com/LamaHamadeh/Pima-Indians-Diabetes-DataSet-UCI"
   ]
  },
  {
   "cell_type": "markdown",
   "metadata": {},
   "source": [
    "### important necessary libraries"
   ]
  },
  {
   "cell_type": "code",
   "execution_count": 138,
   "metadata": {
    "collapsed": true,
    "scrolled": true
   },
   "outputs": [],
   "source": [
    "import numpy as np\n",
    "import pandas as pd\n",
    "from sklearn.cross_validation import train_test_split\n",
    "from sklearn.neighbors import KNeighborsClassifier\n",
    "import matplotlib.pyplot as plt\n",
    "from matplotlib.colors import ListedColormap"
   ]
  },
  {
   "cell_type": "markdown",
   "metadata": {},
   "source": [
    "### loading the dataframe"
   ]
  },
  {
   "cell_type": "code",
   "execution_count": 139,
   "metadata": {
    "collapsed": true,
    "scrolled": true
   },
   "outputs": [],
   "source": [
    "\n",
    "df = pd.read_csv('pima_indians_diabetes.txt')"
   ]
  },
  {
   "cell_type": "markdown",
   "metadata": {},
   "source": [
    "### defining the columns"
   ]
  },
  {
   "cell_type": "code",
   "execution_count": 140,
   "metadata": {
    "collapsed": true,
    "scrolled": true
   },
   "outputs": [],
   "source": [
    " \n",
    "df.columns =['No_pregnant', 'Plasma_glucose', 'Blood_pres', 'Skin_thick', \n",
    "             'Serum_insu', 'BMI', 'Diabetes_func', 'Age', 'Class']"
   ]
  },
  {
   "cell_type": "markdown",
   "metadata": {},
   "source": [
    "### checking the dataframe"
   ]
  },
  {
   "cell_type": "code",
   "execution_count": 141,
   "metadata": {
    "scrolled": true
   },
   "outputs": [
    {
     "name": "stdout",
     "output_type": "stream",
     "text": [
      "   No_pregnant  Plasma_glucose  Blood_pres  Skin_thick  Serum_insu   BMI  \\\n",
      "0            1              85          66          29           0  26.6   \n",
      "1            8             183          64           0           0  23.3   \n",
      "2            1              89          66          23          94  28.1   \n",
      "3            0             137          40          35         168  43.1   \n",
      "4            5             116          74           0           0  25.6   \n",
      "\n",
      "   Diabetes_func  Age  Class  \n",
      "0          0.351   31      0  \n",
      "1          0.672   32      1  \n",
      "2          0.167   21      0  \n",
      "3          2.288   33      1  \n",
      "4          0.201   30      0  \n",
      "No_pregnant         int64\n",
      "Plasma_glucose      int64\n",
      "Blood_pres          int64\n",
      "Skin_thick          int64\n",
      "Serum_insu          int64\n",
      "BMI               float64\n",
      "Diabetes_func     float64\n",
      "Age                 int64\n",
      "Class               int64\n",
      "dtype: object\n",
      "(767, 9)\n"
     ]
    }
   ],
   "source": [
    "print(df.head())\n",
    "print(df.dtypes)\n",
    "print(df.shape)"
   ]
  },
  {
   "cell_type": "markdown",
   "metadata": {},
   "source": [
    "### identify nans ( missing data) "
   ]
  },
  {
   "cell_type": "code",
   "execution_count": 142,
   "metadata": {
    "scrolled": true
   },
   "outputs": [
    {
     "name": "stdout",
     "output_type": "stream",
     "text": [
      "Missing values per column:\n",
      "No_pregnant       0\n",
      "Plasma_glucose    0\n",
      "Blood_pres        0\n",
      "Skin_thick        0\n",
      "Serum_insu        0\n",
      "BMI               0\n",
      "Diabetes_func     0\n",
      "Age               0\n",
      "Class             0\n",
      "dtype: int64 \n",
      "\n"
     ]
    }
   ],
   "source": [
    "\n",
    "def num_missing(x):\n",
    "  return sum(x.isnull())\n",
    "#Applying per column:\n",
    "print (\"Missing values per column:\")\n",
    "print (df.apply(num_missing, axis=0),'\\n') #no nans"
   ]
  },
  {
   "cell_type": "markdown",
   "metadata": {},
   "source": [
    "## Apply the K nearest neighbour classifier"
   ]
  },
  {
   "cell_type": "markdown",
   "metadata": {},
   "source": [
    "Reference: kNN Algorithm: https://www.youtube.com/watch?v=UqYde-LULfs"
   ]
  },
  {
   "cell_type": "markdown",
   "metadata": {},
   "source": [
    "Reference: kNN Sklearn : http://scikit-learn.org/stable/modules/generated/sklearn.neighbors.KNeighborsClassifier.html"
   ]
  },
  {
   "cell_type": "markdown",
   "metadata": {},
   "source": [
    "### split the data into training and testing datasets"
   ]
  },
  {
   "cell_type": "code",
   "execution_count": 143,
   "metadata": {
    "collapsed": true,
    "scrolled": true
   },
   "outputs": [],
   "source": [
    "X = np.array(df.drop(['Class'], axis = 1))\n",
    "y = np.array(df['Class'])\n",
    "X_train, X_test, y_train, y_test = train_test_split(X, y , test_size =0.5,random_state = 7)"
   ]
  },
  {
   "cell_type": "markdown",
   "metadata": {},
   "source": [
    "### apply the knn method:\n",
    "\n",
    "this is basically a binary classifier detecting diabetes or not based on the test data"
   ]
  },
  {
   "cell_type": "code",
   "execution_count": 147,
   "metadata": {
    "collapsed": true,
    "scrolled": true
   },
   "outputs": [],
   "source": [
    "Knn = DecisionTree"
   ]
  },
  {
   "cell_type": "markdown",
   "metadata": {},
   "source": [
    "### train the data"
   ]
  },
  {
   "cell_type": "code",
   "execution_count": 148,
   "metadata": {
    "scrolled": true
   },
   "outputs": [
    {
     "data": {
      "text/plain": [
       "KNeighborsClassifier(algorithm='auto', leaf_size=30, metric='minkowski',\n",
       "           metric_params=None, n_jobs=1, n_neighbors=5, p=2,\n",
       "           weights='uniform')"
      ]
     },
     "execution_count": 148,
     "metadata": {},
     "output_type": "execute_result"
    }
   ],
   "source": [
    "Knn.fit(X_train,y_train)"
   ]
  },
  {
   "cell_type": "markdown",
   "metadata": {},
   "source": [
    "### test the data"
   ]
  },
  {
   "cell_type": "code",
   "execution_count": 149,
   "metadata": {
    "scrolled": true
   },
   "outputs": [
    {
     "name": "stdout",
     "output_type": "stream",
     "text": [
      "accuracy of the model is:  0.739583333333\n"
     ]
    }
   ],
   "source": [
    "accuracy = Knn.score(X_test, y_test)#this to see how accurate the algorithm is in terms \n",
    "#of defining the diabetes to be either 1 or 0\n",
    "print('accuracy of the model is: ', accuracy) #0.73"
   ]
  },
  {
   "cell_type": "markdown",
   "metadata": {},
   "source": [
    "## Plotting and visualisation (focus on only two features from the dataset)"
   ]
  },
  {
   "cell_type": "code",
   "execution_count": null,
   "metadata": {
    "collapsed": true,
    "scrolled": true
   },
   "outputs": [],
   "source": [
    "X1 = np.array(df[['Plasma_glucose','Age']]) #choose only two features\n",
    "Y = np.array(df['Class']) #the label of the dataset\n",
    "\n",
    "h = .02  # step size in the mesh\n",
    " \n",
    "# Create color maps using hex_colors\n",
    "cmap_light = ListedColormap(['#FFAAAA', '#AAAAFF'])\n",
    "cmap_bold = ListedColormap(['#FF0000', '#0000FF'])"
   ]
  },
  {
   "cell_type": "markdown",
   "metadata": {},
   "source": [
    "### apply Neighbours Classifier and fit the data."
   ]
  },
  {
   "cell_type": "code",
   "execution_count": null,
   "metadata": {
    "collapsed": true,
    "scrolled": true
   },
   "outputs": [],
   "source": [
    "\n",
    "X_train, X_test, Y_train, Y_test = train_test_split (X1, y, test_size=0.5, random_state = 7)\n",
    "Knn = KNeighborsClassifier(n_neighbors = 15)\n",
    "Knn.fit(X1, y)"
   ]
  },
  {
   "cell_type": "markdown",
   "metadata": {},
   "source": [
    "### Plot the decision boundary. For that, we will assign a color to each (this portion might take a while to run. please be patient) "
   ]
  },
  {
   "cell_type": "code",
   "execution_count": null,
   "metadata": {
    "collapsed": true,
    "scrolled": true
   },
   "outputs": [],
   "source": [
    "\n",
    "# point in the mesh [x_min, m_max]x[y_min, y_max].\n",
    "x_min, x_max = X1[:, 0].min() - 1, X1[:, 0].max() + 1\n",
    "y_min, y_max = X1[:, 1].min() - 1, X1[:, 1].max() + 1\n",
    "xx, yy = np.meshgrid(np.arange(x_min, x_max, h), np.arange(y_min, y_max, h))\n",
    "Z = Knn.predict(np.c_[xx.ravel(), yy.ravel()])\n",
    "\n",
    "# Put the result into a color plot\n",
    "Z = Z.reshape(xx.shape)\n",
    "plt.figure()\n",
    "plt.pcolormesh(xx, yy, Z, cmap=cmap_light)\n",
    "\n",
    "# Plot also the training points\n",
    "plt.scatter(X1[:, 0], X1[:, 1], c=y, cmap=cmap_bold)\n",
    "plt.xlim(xx.min(), xx.max())\n",
    "plt.ylim(yy.min(), yy.max())\n",
    "plt.xlabel('Plasma glucose concentration a 2 hours in an oral glucose tolerance test')\n",
    "plt.ylabel('Age')\n",
    "plt.title('K = 15')\n",
    "\n",
    "plt.show()"
   ]
  },
  {
   "cell_type": "markdown",
   "metadata": {},
   "source": [
    "### The part of code we actually need in a nuthsell:"
   ]
  },
  {
   "cell_type": "code",
   "execution_count": null,
   "metadata": {
    "collapsed": true,
    "scrolled": true
   },
   "outputs": [],
   "source": [
    "#important necessary libraries\n",
    "import numpy as np\n",
    "import pandas as pd\n",
    "from sklearn.cross_validation import train_test_split\n",
    "from sklearn.neighbors import KNeighborsClassifier\n",
    "import matplotlib.pyplot as plt\n",
    "from matplotlib.colors import ListedColormap\n",
    "#-------------------\n",
    "\n",
    "#loading the dataframe\n",
    "df = pd.read_csv('pima_indians_diabetes.txt')\n",
    "\n",
    "#-------------------\n",
    "\n",
    "#defining the columns \n",
    "df.columns =['No_pregnant', 'Plasma_glucose', 'Blood_pres', 'Skin_thick', \n",
    "             'Serum_insu', 'BMI', 'Diabetes_func', 'Age', 'Class']\n",
    "\n",
    "X = np.array(df.drop(['Class'], axis = 1))\n",
    "y = np.array(df['Class'])\n",
    "X_train, X_test, y_train, y_test = train_test_split(X, y , test_size =0.5, \n",
    "                                                    random_state = 7)\n",
    "Knn = KNeighborsClassifier(n_neighbors = 2)\n",
    "\n",
    "#train the data\n",
    "Knn.fit(X_train,y_train)\n",
    "\n",
    "accuracy = Knn.score(X_test, y_test)#this to see how accurate the algorithm is in terms \n",
    "#of defining the diabetes to be either 1 or 0\n",
    "print('accuracy of the model is: ', accuracy) #0.73\n",
    "\n",
    "predictions = Knn.predict(X_test)\n",
    "print('predictions generated by the knn:')\n",
    "print(predictions)\n",
    "print('the actual diabetes ground truth:')\n",
    "print(y_test)\n",
    "#ekhane nasim er code hobe \n",
    "#filename is model \n",
    "#saving model in sklearn\n",
    "#macine learning mastery .com"
   ]
  },
  {
   "cell_type": "code",
   "execution_count": 65,
   "metadata": {
    "collapsed": true
   },
   "outputs": [],
   "source": [
    "import pickle"
   ]
  },
  {
   "cell_type": "markdown",
   "metadata": {},
   "source": [
    "# Section 2.6\n",
    "# Visualizing effects of different classifiers:"
   ]
  },
  {
   "cell_type": "code",
   "execution_count": null,
   "metadata": {
    "collapsed": true
   },
   "outputs": [],
   "source": [
    "import numpy as np\n",
    "import matplotlib.pyplot as plt\n",
    "from matplotlib.colors import ListedColormap\n",
    "from sklearn.model_selection import train_test_split\n",
    "from sklearn.preprocessing import StandardScaler\n",
    "from sklearn.datasets import make_moons, make_circles, make_classification\n",
    "from sklearn.neural_network import MLPClassifier\n",
    "from sklearn.neighbors import KNeighborsClassifier\n",
    "from sklearn.svm import SVC\n",
    "from sklearn.gaussian_process import GaussianProcessClassifier\n",
    "from sklearn.gaussian_process.kernels import RBF\n",
    "from sklearn.tree import DecisionTreeClassifier\n",
    "from sklearn.ensemble import RandomForestClassifier, AdaBoostClassifier\n",
    "from sklearn.naive_bayes import GaussianNB\n",
    "from sklearn.discriminant_analysis import QuadraticDiscriminantAnalysis\n",
    "\n",
    "h = .02  # step size in the mesh\n",
    "\n",
    "names = [\"Nearest Neighbors\", \"Linear SVM\", \"RBF SVM\", \"Gaussian Process\",\n",
    "         \"Decision Tree\", \"Random Forest\", \"Neural Net\", \"AdaBoost\",\n",
    "         \"Naive Bayes\", \"QDA\"]\n",
    "\n",
    "classifiers = [\n",
    "    KNeighborsClassifier(3),\n",
    "    SVC(kernel=\"linear\", C=0.025),\n",
    "    SVC(gamma=2, C=1),\n",
    "    GaussianProcessClassifier(1.0 * RBF(1.0)),\n",
    "    DecisionTreeClassifier(max_depth=5),\n",
    "    RandomForestClassifier(max_depth=5, n_estimators=10, max_features=1),\n",
    "    MLPClassifier(alpha=1),\n",
    "    AdaBoostClassifier(),\n",
    "    GaussianNB(),\n",
    "    QuadraticDiscriminantAnalysis()]\n",
    "\n",
    "X, y = make_classification(n_features=2, n_redundant=0, n_informative=2,\n",
    "                           random_state=1, n_clusters_per_class=1)\n",
    "rng = np.random.RandomState(2)\n",
    "X += 2 * rng.uniform(size=X.shape)\n",
    "linearly_separable = (X, y)\n",
    "\n",
    "datasets = [make_moons(noise=0.3, random_state=0),\n",
    "            make_circles(noise=0.2, factor=0.5, random_state=1),\n",
    "            linearly_separable\n",
    "            ]\n",
    "\n",
    "figure = plt.figure(figsize=(27, 9))\n",
    "i = 1\n",
    "# iterate over datasets\n",
    "for ds_cnt, ds in enumerate(datasets):\n",
    "    # preprocess dataset, split into training and test part\n",
    "    X, y = ds\n",
    "    X = StandardScaler().fit_transform(X)\n",
    "    X_train, X_test, y_train, y_test = \\\n",
    "        train_test_split(X, y, test_size=.4, random_state=42)\n",
    "\n",
    "    x_min, x_max = X[:, 0].min() - .5, X[:, 0].max() + .5\n",
    "    y_min, y_max = X[:, 1].min() - .5, X[:, 1].max() + .5\n",
    "    xx, yy = np.meshgrid(np.arange(x_min, x_max, h),\n",
    "                         np.arange(y_min, y_max, h))\n",
    "\n",
    "    # just plot the dataset first\n",
    "    cm = plt.cm.RdBu\n",
    "    cm_bright = ListedColormap(['#FF0000', '#0000FF'])\n",
    "    ax = plt.subplot(len(datasets), len(classifiers) + 1, i)\n",
    "    if ds_cnt == 0:\n",
    "        ax.set_title(\"Input data\")\n",
    "    # Plot the training points\n",
    "    ax.scatter(X_train[:, 0], X_train[:, 1], c=y_train, cmap=cm_bright,\n",
    "               edgecolors='k')\n",
    "    # and testing points\n",
    "    ax.scatter(X_test[:, 0], X_test[:, 1], c=y_test, cmap=cm_bright, alpha=0.6,\n",
    "               edgecolors='k')\n",
    "    ax.set_xlim(xx.min(), xx.max())\n",
    "    ax.set_ylim(yy.min(), yy.max())\n",
    "    ax.set_xticks(())\n",
    "    ax.set_yticks(())\n",
    "    i += 1\n",
    "\n",
    "    # iterate over classifiers\n",
    "    for name, clf in zip(names, classifiers):\n",
    "        ax = plt.subplot(len(datasets), len(classifiers) + 1, i)\n",
    "        clf.fit(X_train, y_train)\n",
    "        score = clf.score(X_test, y_test)\n",
    "\n",
    "        # Plot the decision boundary. For that, we will assign a color to each\n",
    "        # point in the mesh [x_min, x_max]x[y_min, y_max].\n",
    "        if hasattr(clf, \"decision_function\"):\n",
    "            Z = clf.decision_function(np.c_[xx.ravel(), yy.ravel()])\n",
    "        else:\n",
    "            Z = clf.predict_proba(np.c_[xx.ravel(), yy.ravel()])[:, 1]\n",
    "\n",
    "        # Put the result into a color plot\n",
    "        Z = Z.reshape(xx.shape)\n",
    "        ax.contourf(xx, yy, Z, cmap=cm, alpha=.8)\n",
    "\n",
    "        # Plot also the training points\n",
    "        ax.scatter(X_train[:, 0], X_train[:, 1], c=y_train, cmap=cm_bright,\n",
    "                   edgecolors='k')\n",
    "        # and testing points\n",
    "        ax.scatter(X_test[:, 0], X_test[:, 1], c=y_test, cmap=cm_bright,\n",
    "                   edgecolors='k', alpha=0.6)\n",
    "\n",
    "        ax.set_xlim(xx.min(), xx.max())\n",
    "        ax.set_ylim(yy.min(), yy.max())\n",
    "        ax.set_xticks(())\n",
    "        ax.set_yticks(())\n",
    "        if ds_cnt == 0:\n",
    "            ax.set_title(name)\n",
    "        ax.text(xx.max() - .3, yy.min() + .3, ('%.2f' % score).lstrip('0'),\n",
    "                size=15, horizontalalignment='right')\n",
    "        i += 1\n",
    "\n",
    "plt.tight_layout()\n",
    "plt.show()"
   ]
  }
 ],
 "metadata": {
  "kernelspec": {
   "display_name": "Python 3",
   "language": "python",
   "name": "python3"
  },
  "language_info": {
   "codemirror_mode": {
    "name": "ipython",
    "version": 3
   },
   "file_extension": ".py",
   "mimetype": "text/x-python",
   "name": "python",
   "nbconvert_exporter": "python",
   "pygments_lexer": "ipython3",
   "version": "3.6.3"
  }
 },
 "nbformat": 4,
 "nbformat_minor": 2
}
