{
 "cells": [
  {
   "cell_type": "code",
   "execution_count": 3,
   "metadata": {},
   "outputs": [
    {
     "ename": "SyntaxError",
     "evalue": "invalid syntax (<ipython-input-3-bb045f02b49d>, line 7)",
     "output_type": "error",
     "traceback": [
      "\u001b[1;36m  File \u001b[1;32m\"<ipython-input-3-bb045f02b49d>\"\u001b[1;36m, line \u001b[1;32m7\u001b[0m\n\u001b[1;33m    Ipc1 = reshape(Itransformed(I:,1),size(I,1),size(I,2));\u001b[0m\n\u001b[1;37m                                 ^\u001b[0m\n\u001b[1;31mSyntaxError\u001b[0m\u001b[1;31m:\u001b[0m invalid syntax\n"
     ]
    }
   ],
   "source": [
    "import cv2\n",
    "from sklearn.decomposition import PCA\n",
    "I = double(imread('pantho.jpg'));\n",
    "X = reshape(I,size(I,1)*size(I,2),3);\n",
    "coeff = PCA(X);\n",
    "Itransformed = X*coeff;\n",
    "Ipc1 = reshape(Itransformed(I:,1),size(I,1),size(I,2));\n",
    "Ipc2 = reshape(Itransformed(:,2),size(I,1),size(I,2));\n",
    "Ipc3 = reshape(Itransformed(:,3),size(I,1),size(I,2));\n",
    "figure, imshow(Ipc1,[]);\n",
    "figure, imshow(Ipc2,[]);\n",
    "figure, imshow(Ipc3,[]);"
   ]
  },
  {
   "cell_type": "code",
   "execution_count": 4,
   "metadata": {
    "collapsed": true
   },
   "outputs": [],
   "source": [
    "import nltk\n"
   ]
  },
  {
   "cell_type": "code",
   "execution_count": 5,
   "metadata": {},
   "outputs": [
    {
     "name": "stdout",
     "output_type": "stream",
     "text": [
      "showing info https://raw.githubusercontent.com/nltk/nltk_data/gh-pages/index.xml\n"
     ]
    },
    {
     "data": {
      "text/plain": [
       "True"
      ]
     },
     "execution_count": 5,
     "metadata": {},
     "output_type": "execute_result"
    }
   ],
   "source": [
    "nltk.download()"
   ]
  },
  {
   "cell_type": "code",
   "execution_count": 15,
   "metadata": {},
   "outputs": [],
   "source": [
    "from nltk import sent_tokenize, word_tokenize"
   ]
  },
  {
   "cell_type": "code",
   "execution_count": 19,
   "metadata": {},
   "outputs": [
    {
     "name": "stdout",
     "output_type": "stream",
     "text": [
      "['hey', 'there', 'here', 'you', 'go', '?', '?', 'where', 'are', 'you', 'going', '?', '.', 'i', 'am', 'Mr.', 'Smith']\n"
     ]
    }
   ],
   "source": [
    "example = \" hey there here you go ?? where are you going?. i am Mr. Smith\"\n",
    "print(word_tokenize(example))"
   ]
  },
  {
   "cell_type": "code",
   "execution_count": null,
   "metadata": {
    "collapsed": true
   },
   "outputs": [],
   "source": []
  }
 ],
 "metadata": {
  "kernelspec": {
   "display_name": "Python 3",
   "language": "python",
   "name": "python3"
  },
  "language_info": {
   "codemirror_mode": {
    "name": "ipython",
    "version": 3
   },
   "file_extension": ".py",
   "mimetype": "text/x-python",
   "name": "python",
   "nbconvert_exporter": "python",
   "pygments_lexer": "ipython3",
   "version": "3.6.3"
  }
 },
 "nbformat": 4,
 "nbformat_minor": 2
}
