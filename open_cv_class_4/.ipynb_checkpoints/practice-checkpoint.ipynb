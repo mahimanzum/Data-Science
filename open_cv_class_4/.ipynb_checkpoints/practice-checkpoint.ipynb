{
 "cells": [
  {
   "cell_type": "code",
   "execution_count": 1,
   "metadata": {
    "collapsed": true
   },
   "outputs": [],
   "source": [
    "import cv2"
   ]
  },
  {
   "cell_type": "code",
   "execution_count": 2,
   "metadata": {
    "collapsed": true
   },
   "outputs": [],
   "source": [
    "import numpy as np\n",
    "import matplotlib.pyplot as plt\n",
    "import pandas as pd"
   ]
  },
  {
   "cell_type": "code",
   "execution_count": 2,
   "metadata": {
    "collapsed": true
   },
   "outputs": [],
   "source": [
    "from nltk.corpus import stopwords\n",
    "from nltk.tokenize import word_tokenize"
   ]
  },
  {
   "cell_type": "code",
   "execution_count": 3,
   "metadata": {
    "collapsed": true
   },
   "outputs": [],
   "source": [
    "stop_words = set(stopwords.words(\"English\"))"
   ]
  },
  {
   "cell_type": "code",
   "execution_count": 4,
   "metadata": {},
   "outputs": [
    {
     "name": "stdout",
     "output_type": "stream",
     "text": [
      "{\"couldn't\", 'shan', \"didn't\", 'doesn', 'itself', \"you've\", 'herself', 'will', 'the', 'a', 'yourself', 'wasn', 'am', 'being', 'out', 'than', 'are', 'into', \"wouldn't\", 'ma', 'during', 'there', 've', 'isn', 'at', \"hadn't\", 'between', 't', 'me', 'doing', 'ours', \"shan't\", 'didn', \"it's\", 'down', 'against', 'mightn', 'which', 'each', 'how', \"aren't\", 'any', \"wasn't\", 'has', 'over', 'such', 'been', 'not', 'and', 'some', 'weren', \"mustn't\", 'her', 'same', 'very', 'd', 'once', \"hasn't\", 'their', 'this', 'you', 'its', 'had', 'mustn', 'other', 'couldn', 'as', 'is', 'wouldn', 'be', 'why', 'aren', 'him', 'only', 'my', 'that', 'those', 'won', \"shouldn't\", 'who', 'more', \"mightn't\", 'do', 'hers', 'we', 'off', 'both', 'needn', \"isn't\", 'with', 'by', 'himself', 'i', 'after', 'all', \"don't\", 'haven', 'about', 'what', 'have', 'shouldn', \"haven't\", 'were', 'few', 'it', 'hadn', 'for', 'on', 'in', 'where', 'your', 'they', 'to', 's', 'ourselves', 'most', 'm', 'too', \"weren't\", 'below', 'yourselves', 'having', \"you're\", 'o', 'above', \"doesn't\", 'until', 'our', 'then', 'his', 'myself', 'ain', 'again', 'she', 'these', 'did', 'll', 'now', 'yours', 'if', \"needn't\", 'themselves', 'nor', 'or', 'an', 'them', \"that'll\", 'because', \"you'll\", 'hasn', 'so', \"you'd\", 'theirs', 'whom', 'before', 'own', 'he', 'don', \"should've\", 'y', 'does', 'through', 'when', 'can', 'up', 'while', 'here', 'but', 'was', 'no', 'of', 'should', 're', 'further', 'just', \"won't\", 'under', \"she's\", 'from'}\n"
     ]
    }
   ],
   "source": [
    "print(stop_words)"
   ]
  },
  {
   "cell_type": "code",
   "execution_count": 14,
   "metadata": {},
   "outputs": [
    {
     "ename": "ValueError",
     "evalue": "not enough values to unpack (expected 2, got 1)",
     "output_type": "error",
     "traceback": [
      "\u001b[1;31m---------------------------------------------------------------------------\u001b[0m",
      "\u001b[1;31mValueError\u001b[0m                                Traceback (most recent call last)",
      "\u001b[1;32m<ipython-input-14-965c6bd8222f>\u001b[0m in \u001b[0;36m<module>\u001b[1;34m()\u001b[0m\n\u001b[0;32m      1\u001b[0m \u001b[0ml\u001b[0m \u001b[1;33m=\u001b[0m \u001b[1;33m[\u001b[0m\u001b[1;34m\"a\"\u001b[0m\u001b[1;33m,\u001b[0m \u001b[1;34m\"b\"\u001b[0m\u001b[1;33m,\u001b[0m \u001b[1;34m\"c\"\u001b[0m\u001b[1;33m,\u001b[0m \u001b[1;34m\"d\"\u001b[0m\u001b[1;33m]\u001b[0m\u001b[1;33m\u001b[0m\u001b[0m\n\u001b[1;32m----> 2\u001b[1;33m \u001b[1;32mfor\u001b[0m \u001b[0mi\u001b[0m\u001b[1;33m,\u001b[0m \u001b[0mj\u001b[0m \u001b[1;32min\u001b[0m \u001b[0ml\u001b[0m \u001b[1;33m:\u001b[0m\u001b[1;33m\u001b[0m\u001b[0m\n\u001b[0m\u001b[0;32m      3\u001b[0m     \u001b[0mprint\u001b[0m\u001b[1;33m(\u001b[0m\u001b[0mi\u001b[0m \u001b[1;33m+\u001b[0m \u001b[1;34m\" \"\u001b[0m\u001b[1;33m)\u001b[0m\u001b[1;33m\u001b[0m\u001b[0m\n",
      "\u001b[1;31mValueError\u001b[0m: not enough values to unpack (expected 2, got 1)"
     ]
    }
   ],
   "source": [
    "l = [\"a\", \"b\", \"c\", \"d\"]\n",
    "for i, j in l :\n",
    "    print(i + \" \")"
   ]
  },
  {
   "cell_type": "code",
   "execution_count": null,
   "metadata": {
    "collapsed": true
   },
   "outputs": [],
   "source": []
  }
 ],
 "metadata": {
  "kernelspec": {
   "display_name": "Python 3",
   "language": "python",
   "name": "python3"
  },
  "language_info": {
   "codemirror_mode": {
    "name": "ipython",
    "version": 3
   },
   "file_extension": ".py",
   "mimetype": "text/x-python",
   "name": "python",
   "nbconvert_exporter": "python",
   "pygments_lexer": "ipython3",
   "version": "3.6.3"
  }
 },
 "nbformat": 4,
 "nbformat_minor": 2
}
